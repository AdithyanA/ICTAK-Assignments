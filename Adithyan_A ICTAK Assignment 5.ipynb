{
 "cells": [
  {
   "cell_type": "code",
   "execution_count": 1,
   "id": "2d481f44",
   "metadata": {},
   "outputs": [],
   "source": [
    "import pandas as pd\n",
    "import numpy as np\n",
    "import matplotlib.pyplot as plt\n",
    "import warnings\n",
    "warnings.filterwarnings(action=\"ignore\")"
   ]
  },
  {
   "cell_type": "code",
   "execution_count": 2,
   "id": "33c31883",
   "metadata": {},
   "outputs": [],
   "source": [
    "jack = pd.read_csv(r\"C:\\Users\\ethan\\Downloads\\titanic_dataset.csv\")"
   ]
  },
  {
   "cell_type": "code",
   "execution_count": 3,
   "id": "133308d5",
   "metadata": {},
   "outputs": [
    {
     "data": {
      "text/html": [
       "<div>\n",
       "<style scoped>\n",
       "    .dataframe tbody tr th:only-of-type {\n",
       "        vertical-align: middle;\n",
       "    }\n",
       "\n",
       "    .dataframe tbody tr th {\n",
       "        vertical-align: top;\n",
       "    }\n",
       "\n",
       "    .dataframe thead th {\n",
       "        text-align: right;\n",
       "    }\n",
       "</style>\n",
       "<table border=\"1\" class=\"dataframe\">\n",
       "  <thead>\n",
       "    <tr style=\"text-align: right;\">\n",
       "      <th></th>\n",
       "      <th>PassengerId</th>\n",
       "      <th>Survived</th>\n",
       "      <th>Pclass</th>\n",
       "      <th>Name</th>\n",
       "      <th>Sex</th>\n",
       "      <th>Age</th>\n",
       "      <th>SibSp</th>\n",
       "      <th>Parch</th>\n",
       "      <th>Ticket</th>\n",
       "      <th>Fare</th>\n",
       "      <th>Cabin</th>\n",
       "      <th>Embarked</th>\n",
       "    </tr>\n",
       "  </thead>\n",
       "  <tbody>\n",
       "    <tr>\n",
       "      <th>0</th>\n",
       "      <td>1</td>\n",
       "      <td>0</td>\n",
       "      <td>3</td>\n",
       "      <td>Braund, Mr. Owen Harris</td>\n",
       "      <td>male</td>\n",
       "      <td>22.0</td>\n",
       "      <td>1</td>\n",
       "      <td>0</td>\n",
       "      <td>A/5 21171</td>\n",
       "      <td>7.2500</td>\n",
       "      <td>NaN</td>\n",
       "      <td>S</td>\n",
       "    </tr>\n",
       "    <tr>\n",
       "      <th>1</th>\n",
       "      <td>2</td>\n",
       "      <td>1</td>\n",
       "      <td>1</td>\n",
       "      <td>Cumings, Mrs. John Bradley (Florence Briggs Th...</td>\n",
       "      <td>female</td>\n",
       "      <td>38.0</td>\n",
       "      <td>1</td>\n",
       "      <td>0</td>\n",
       "      <td>PC 17599</td>\n",
       "      <td>71.2833</td>\n",
       "      <td>C85</td>\n",
       "      <td>C</td>\n",
       "    </tr>\n",
       "    <tr>\n",
       "      <th>2</th>\n",
       "      <td>3</td>\n",
       "      <td>1</td>\n",
       "      <td>3</td>\n",
       "      <td>Heikkinen, Miss. Laina</td>\n",
       "      <td>female</td>\n",
       "      <td>26.0</td>\n",
       "      <td>0</td>\n",
       "      <td>0</td>\n",
       "      <td>STON/O2. 3101282</td>\n",
       "      <td>7.9250</td>\n",
       "      <td>NaN</td>\n",
       "      <td>S</td>\n",
       "    </tr>\n",
       "    <tr>\n",
       "      <th>3</th>\n",
       "      <td>4</td>\n",
       "      <td>1</td>\n",
       "      <td>1</td>\n",
       "      <td>Futrelle, Mrs. Jacques Heath (Lily May Peel)</td>\n",
       "      <td>female</td>\n",
       "      <td>35.0</td>\n",
       "      <td>1</td>\n",
       "      <td>0</td>\n",
       "      <td>113803</td>\n",
       "      <td>53.1000</td>\n",
       "      <td>C123</td>\n",
       "      <td>S</td>\n",
       "    </tr>\n",
       "    <tr>\n",
       "      <th>4</th>\n",
       "      <td>5</td>\n",
       "      <td>0</td>\n",
       "      <td>3</td>\n",
       "      <td>Allen, Mr. William Henry</td>\n",
       "      <td>male</td>\n",
       "      <td>35.0</td>\n",
       "      <td>0</td>\n",
       "      <td>0</td>\n",
       "      <td>373450</td>\n",
       "      <td>8.0500</td>\n",
       "      <td>NaN</td>\n",
       "      <td>S</td>\n",
       "    </tr>\n",
       "  </tbody>\n",
       "</table>\n",
       "</div>"
      ],
      "text/plain": [
       "   PassengerId  Survived  Pclass  \\\n",
       "0            1         0       3   \n",
       "1            2         1       1   \n",
       "2            3         1       3   \n",
       "3            4         1       1   \n",
       "4            5         0       3   \n",
       "\n",
       "                                                Name     Sex   Age  SibSp  \\\n",
       "0                            Braund, Mr. Owen Harris    male  22.0      1   \n",
       "1  Cumings, Mrs. John Bradley (Florence Briggs Th...  female  38.0      1   \n",
       "2                             Heikkinen, Miss. Laina  female  26.0      0   \n",
       "3       Futrelle, Mrs. Jacques Heath (Lily May Peel)  female  35.0      1   \n",
       "4                           Allen, Mr. William Henry    male  35.0      0   \n",
       "\n",
       "   Parch            Ticket     Fare Cabin Embarked  \n",
       "0      0         A/5 21171   7.2500   NaN        S  \n",
       "1      0          PC 17599  71.2833   C85        C  \n",
       "2      0  STON/O2. 3101282   7.9250   NaN        S  \n",
       "3      0            113803  53.1000  C123        S  \n",
       "4      0            373450   8.0500   NaN        S  "
      ]
     },
     "execution_count": 3,
     "metadata": {},
     "output_type": "execute_result"
    }
   ],
   "source": [
    "jack.head()"
   ]
  },
  {
   "cell_type": "code",
   "execution_count": 4,
   "id": "683819ed",
   "metadata": {},
   "outputs": [],
   "source": [
    "jack.set_index('PassengerId', inplace = True)"
   ]
  },
  {
   "cell_type": "code",
   "execution_count": 5,
   "id": "fc9f7392",
   "metadata": {},
   "outputs": [
    {
     "data": {
      "text/plain": [
       "(891, 11)"
      ]
     },
     "execution_count": 5,
     "metadata": {},
     "output_type": "execute_result"
    }
   ],
   "source": [
    "jack.shape"
   ]
  },
  {
   "cell_type": "code",
   "execution_count": 6,
   "id": "326f316f",
   "metadata": {},
   "outputs": [
    {
     "name": "stdout",
     "output_type": "stream",
     "text": [
      "<class 'pandas.core.frame.DataFrame'>\n",
      "Int64Index: 891 entries, 1 to 891\n",
      "Data columns (total 11 columns):\n",
      " #   Column    Non-Null Count  Dtype  \n",
      "---  ------    --------------  -----  \n",
      " 0   Survived  891 non-null    int64  \n",
      " 1   Pclass    891 non-null    int64  \n",
      " 2   Name      891 non-null    object \n",
      " 3   Sex       891 non-null    object \n",
      " 4   Age       714 non-null    float64\n",
      " 5   SibSp     891 non-null    int64  \n",
      " 6   Parch     891 non-null    int64  \n",
      " 7   Ticket    891 non-null    object \n",
      " 8   Fare      891 non-null    float64\n",
      " 9   Cabin     204 non-null    object \n",
      " 10  Embarked  889 non-null    object \n",
      "dtypes: float64(2), int64(4), object(5)\n",
      "memory usage: 83.5+ KB\n"
     ]
    }
   ],
   "source": [
    "jack.info()"
   ]
  },
  {
   "cell_type": "code",
   "execution_count": 7,
   "id": "f0141ed4",
   "metadata": {},
   "outputs": [
    {
     "data": {
      "text/plain": [
       "Survived      0\n",
       "Pclass        0\n",
       "Name          0\n",
       "Sex           0\n",
       "Age         177\n",
       "SibSp         0\n",
       "Parch         0\n",
       "Ticket        0\n",
       "Fare          0\n",
       "Cabin       687\n",
       "Embarked      2\n",
       "dtype: int64"
      ]
     },
     "execution_count": 7,
     "metadata": {},
     "output_type": "execute_result"
    }
   ],
   "source": [
    "jack.isna().sum()"
   ]
  },
  {
   "cell_type": "markdown",
   "id": "ba2e5a54",
   "metadata": {},
   "source": [
    "# Imputing"
   ]
  },
  {
   "cell_type": "markdown",
   "id": "de8b46df",
   "metadata": {},
   "source": [
    "#### Imputing  Age"
   ]
  },
  {
   "cell_type": "markdown",
   "id": "52875d9b",
   "metadata": {},
   "source": [
    "Creating a seperate column named Salutation so that to seperate people based on salutation and filling null values."
   ]
  },
  {
   "cell_type": "code",
   "execution_count": 8,
   "id": "af4b5221",
   "metadata": {},
   "outputs": [
    {
     "data": {
      "text/plain": [
       "array(['Mr', 'Mrs', 'Miss', 'Master', 'Don', 'Rev', 'Dr', 'Mme', 'Ms',\n",
       "       'Major', 'Lady', 'Sir', 'Mlle', 'Col', 'Capt', 'the Countess',\n",
       "       'Jonkheer'], dtype=object)"
      ]
     },
     "execution_count": 8,
     "metadata": {},
     "output_type": "execute_result"
    }
   ],
   "source": [
    "jack['Salutation'] = jack.Name.apply(lambda name: name.split(',')[1].split('.')[0].strip())\n",
    "jack['Salutation'].unique()\n"
   ]
  },
  {
   "cell_type": "code",
   "execution_count": 9,
   "id": "2ba3b99f",
   "metadata": {},
   "outputs": [],
   "source": [
    "#Mr_arr = jack[jack['Name'].str.contains('Mr')].Age.values\n",
    "#Miss_arr = jack[jack['Name'].str.contains('Miss')].Age.values\n",
    "#Master_arr = jack[jack['Name'].str.contains('Master')].Age.values\n",
    "#Don_arr = jack[jack['Name'].str.contains('Don')].Age.values\n",
    "#Rev_arr = jack[jack['Name'].str.contains('Rev')].Age.values\n",
    "#Dr_arr = jack[jack['Name'].str.contains('Dr')].Age.values\n",
    "#Mme_arr = jack[jack['Name'].str.contains('Mme')].Age.values\n",
    "#Ms_arr = jack[jack['Name'].str.contains('Ms')].Age.values\n",
    "#Major_arr = jack[jack['Name'].str.contains('Major')].Age.values\n",
    "#Lady_arr = jack[jack['Name'].str.contains('Lady')].Age.values\n",
    "#Sir_arr = jack[jack['Name'].str.contains('Sir')].Age.values\n",
    "#Mlle_arr = jack[jack['Name'].str.contains('Mlle')].Age.values\n",
    "#Col_arr = jack[jack['Name'].str.contains('Col')].Age.values\n",
    "#Capt_arr = jack[jack['Name'].str.contains('Capt')].Age.values\n",
    "#the_Countess_arr = jack[jack['Name'].str.contains('the Countess')].Age.values\n",
    "#Jonkheer_arr =jack[jack['Name'].str.contains('Jonkheer')].Age.values\n"
   ]
  },
  {
   "cell_type": "code",
   "execution_count": 10,
   "id": "8380dea5",
   "metadata": {},
   "outputs": [],
   "source": [
    "#np.isnan(Mr_arr).sum(),np.isnan(Miss_arr).sum(),np.isnan(Master_arr).sum(),np.isnan(Don_arr).sum(),np.isnan(Rev_arr).sum(),np.isnan(Dr_arr).sum(),np.isnan(Mme_arr).sum(),np.isnan(Ms_arr).sum(),np.isnan(Major_arr).sum(),np.isnan(Lady_arr).sum(),np.isnan(Sir_arr).sum(),np.isnan(Mlle_arr).sum(),np.isnan(Col_arr).sum(),np.isnan(Capt_arr).sum(),np.isnan(the_Countess_arr).sum(),np.isnan(Jonkheer_arr).sum()"
   ]
  },
  {
   "cell_type": "code",
   "execution_count": 11,
   "id": "1e7481ea",
   "metadata": {},
   "outputs": [],
   "source": [
    "Mr = jack[jack['Salutation'] == 'Mr']\n",
    "Miss = jack[jack['Salutation'] == 'Miss']\n",
    "Master = jack[jack['Salutation'] == 'Master'] \n",
    "Dr = jack[jack['Salutation'] == 'Dr']\n",
    "Sir = jack[jack['Salutation'] == 'Sir']\n",
    "Mrs = jack[jack['Salutation'] == 'Mrs']\n"
   ]
  },
  {
   "cell_type": "code",
   "execution_count": 12,
   "id": "eb4db924",
   "metadata": {},
   "outputs": [],
   "source": [
    "#Dealing with Mr\n",
    "Mr['Age'] = Mr['Age'].fillna(Mr['Age'].mean())\n",
    "jack.update(Mr)\n",
    "\n",
    "#Dealing with Miss\n",
    "Miss['Age'] = Miss['Age'].fillna(Miss['Age'].mean())\n",
    "jack.update(Miss)\n",
    "\n",
    "#Dealing with Master\n",
    "Master['Age'] = Master['Age'].fillna(Master['Age'].mean())\n",
    "jack.update(Master)\n",
    "\n",
    "#Dealing with Dr\n",
    "Dr['Age'] = Dr['Age'].fillna(Dr['Age'].mean())\n",
    "jack.update(Dr)\n",
    "\n",
    "#Dealing with Mrs\n",
    "Mrs['Age'] = Mrs['Age'].fillna(Mrs['Age'].mean())\n",
    "jack.update(Mrs)"
   ]
  },
  {
   "cell_type": "code",
   "execution_count": 13,
   "id": "ba9b06a8",
   "metadata": {},
   "outputs": [
    {
     "data": {
      "text/plain": [
       "0"
      ]
     },
     "execution_count": 13,
     "metadata": {},
     "output_type": "execute_result"
    }
   ],
   "source": [
    "jack['Age'].isna().sum()"
   ]
  },
  {
   "cell_type": "markdown",
   "id": "dc6696d1",
   "metadata": {},
   "source": [
    "#### Imputing Cabin"
   ]
  },
  {
   "cell_type": "code",
   "execution_count": 14,
   "id": "c903e415",
   "metadata": {},
   "outputs": [],
   "source": [
    "jack['Cabin'] = jack['Cabin'].fillna('Erand, probably')"
   ]
  },
  {
   "cell_type": "markdown",
   "id": "fa6e7161",
   "metadata": {},
   "source": [
    "#### Imputing Embarked"
   ]
  },
  {
   "cell_type": "code",
   "execution_count": 15,
   "id": "58e265f9",
   "metadata": {},
   "outputs": [
    {
     "data": {
      "text/plain": [
       "'S'"
      ]
     },
     "execution_count": 15,
     "metadata": {},
     "output_type": "execute_result"
    }
   ],
   "source": [
    "jack['Embarked'].mode()[0]"
   ]
  },
  {
   "cell_type": "code",
   "execution_count": 16,
   "id": "d0668d95",
   "metadata": {},
   "outputs": [],
   "source": [
    "jack['Embarked'] = jack['Embarked'].fillna('S')"
   ]
  },
  {
   "cell_type": "code",
   "execution_count": 17,
   "id": "8d64dfba",
   "metadata": {},
   "outputs": [
    {
     "data": {
      "text/plain": [
       "Survived      0\n",
       "Pclass        0\n",
       "Name          0\n",
       "Sex           0\n",
       "Age           0\n",
       "SibSp         0\n",
       "Parch         0\n",
       "Ticket        0\n",
       "Fare          0\n",
       "Cabin         0\n",
       "Embarked      0\n",
       "Salutation    0\n",
       "dtype: int64"
      ]
     },
     "execution_count": 17,
     "metadata": {},
     "output_type": "execute_result"
    }
   ],
   "source": [
    "jack.isna().sum()"
   ]
  },
  {
   "cell_type": "markdown",
   "id": "0552514e",
   "metadata": {},
   "source": [
    "## Handling Outliers"
   ]
  },
  {
   "cell_type": "markdown",
   "id": "88b2d5a8",
   "metadata": {},
   "source": [
    "### Handling outliers in Age"
   ]
  },
  {
   "cell_type": "code",
   "execution_count": 30,
   "id": "19e0269a",
   "metadata": {},
   "outputs": [
    {
     "data": {
      "image/png": "[encoded data removed]",
      "text/plain": [
       "<Figure size 640x480 with 1 Axes>"
      ]
     },
     "metadata": {},
     "output_type": "display_data"
    }
   ],
   "source": [
    "plt.boxplot(jack['Age'])\n",
    "plt.show()"
   ]
  },
  {
   "cell_type": "code",
   "execution_count": 31,
   "id": "b83424e1",
   "metadata": {},
   "outputs": [],
   "source": [
    "q1 = jack['Age'].quantile(q= 0.25)\n",
    "q2 = jack['Age'].quantile(q= 0.50)\n",
    "q3 = jack['Age'].quantile(q= 0.75)"
   ]
  },
  {
   "cell_type": "code",
   "execution_count": 33,
   "id": "f1aaa59c",
   "metadata": {},
   "outputs": [
    {
     "data": {
      "text/plain": [
       "14.12417554540842"
      ]
     },
     "execution_count": 33,
     "metadata": {},
     "output_type": "execute_result"
    }
   ],
   "source": [
    "iqr= q3-q1\n",
    "iqr"
   ]
  },
  {
   "cell_type": "code",
   "execution_count": 41,
   "id": "5ca5f7c1",
   "metadata": {},
   "outputs": [
    {
     "data": {
      "text/plain": [
       "(66.97133434804667, -9.2992135971588)"
      ]
     },
     "execution_count": 41,
     "metadata": {},
     "output_type": "execute_result"
    }
   ],
   "source": [
    "lower = q1 - 2.2*iqr\n",
    "upper = q3 + 2.2*iqr\n",
    "upper, lower"
   ]
  },
  {
   "cell_type": "code",
   "execution_count": 42,
   "id": "81fbe6f8",
   "metadata": {},
   "outputs": [],
   "source": [
    "outlier= []\n",
    "for x in jack['Age']:\n",
    "    if x>upper or x<lower:\n",
    "        outlier.append(x)"
   ]
  },
  {
   "cell_type": "code",
   "execution_count": 43,
   "id": "86dfc9df",
   "metadata": {},
   "outputs": [
    {
     "data": {
      "text/plain": [
       "[71.0, 70.5, 71.0, 80.0, 70.0, 70.0, 74.0]"
      ]
     },
     "execution_count": 43,
     "metadata": {},
     "output_type": "execute_result"
    }
   ],
   "source": [
    "outlier"
   ]
  },
  {
   "cell_type": "code",
   "execution_count": 44,
   "id": "6e6eb75d",
   "metadata": {},
   "outputs": [
    {
     "data": {
      "text/plain": [
       "Int64Index([97, 117, 494, 631, 673, 746, 852], dtype='int64', name='PassengerId')"
      ]
     },
     "execution_count": 44,
     "metadata": {},
     "output_type": "execute_result"
    }
   ],
   "source": [
    "index = jack['Age'] > upper\n",
    "jack.loc[index].index"
   ]
  },
  {
   "cell_type": "code",
   "execution_count": 45,
   "id": "f746ed5f",
   "metadata": {},
   "outputs": [],
   "source": [
    "jack.drop([97, 117, 494, 631, 673, 746, 852], inplace = True)"
   ]
  },
  {
   "cell_type": "code",
   "execution_count": 46,
   "id": "0b05ee59",
   "metadata": {},
   "outputs": [
    {
     "data": {
      "text/plain": [
       "(884, 12)"
      ]
     },
     "execution_count": 46,
     "metadata": {},
     "output_type": "execute_result"
    }
   ],
   "source": [
    "jack.shape"
   ]
  },
  {
   "cell_type": "markdown",
   "id": "e8861a7e",
   "metadata": {},
   "source": [
    "### Handling outliers in Fare"
   ]
  },
  {
   "cell_type": "code",
   "execution_count": 47,
   "id": "3368d50d",
   "metadata": {},
   "outputs": [
    {
     "data": {
      "image/png": "[encoded data removed]",
      "text/plain": [
       "<Figure size 640x480 with 1 Axes>"
      ]
     },
     "metadata": {},
     "output_type": "display_data"
    }
   ],
   "source": [
    "plt.boxplot(jack['Fare'])\n",
    "plt.show()"
   ]
  },
  {
   "cell_type": "code",
   "execution_count": 48,
   "id": "74e2e871",
   "metadata": {},
   "outputs": [
    {
     "data": {
      "text/plain": [
       "(7.9177, 14.4542, 31.0)"
      ]
     },
     "execution_count": 48,
     "metadata": {},
     "output_type": "execute_result"
    }
   ],
   "source": [
    "Q1 = jack['Fare'].quantile(q= 0.25)\n",
    "Q2 = jack['Fare'].quantile(q= 0.50)\n",
    "Q3 = jack['Fare'].quantile(q= 0.75)\n",
    "Q1,Q2,Q3"
   ]
  },
  {
   "cell_type": "code",
   "execution_count": 49,
   "id": "aa6638a8",
   "metadata": {},
   "outputs": [
    {
     "data": {
      "text/plain": [
       "23.0823"
      ]
     },
     "execution_count": 49,
     "metadata": {},
     "output_type": "execute_result"
    }
   ],
   "source": [
    "IQR= Q3-Q1\n",
    "IQR"
   ]
  },
  {
   "cell_type": "code",
   "execution_count": 62,
   "id": "324e8573",
   "metadata": {},
   "outputs": [
    {
     "data": {
      "text/plain": [
       "(77.16460000000001, -38.2469)"
      ]
     },
     "execution_count": 62,
     "metadata": {},
     "output_type": "execute_result"
    }
   ],
   "source": [
    "lowerF = Q1 - 2*IQR\n",
    "upperF = Q3 + 2*IQR\n",
    "upperF, lowerF"
   ]
  },
  {
   "cell_type": "code",
   "execution_count": 63,
   "id": "091ec01a",
   "metadata": {},
   "outputs": [],
   "source": [
    "outlier2= []\n",
    "for x in jack['Fare']:\n",
    "    if x>upperF or x<lowerF:\n",
    "        outlier2.append(x)"
   ]
  },
  {
   "cell_type": "code",
   "execution_count": 64,
   "id": "b366bc5d",
   "metadata": {},
   "outputs": [
    {
     "data": {
      "text/plain": [
       "Int64Index([ 28,  32,  35,  62,  63,  89, 103, 119, 125, 140, 196, 216, 225,\n",
       "            231, 246, 257, 258, 259, 263, 269, 270, 276, 291, 292, 298, 300,\n",
       "            306, 307, 308, 311, 312, 319, 320, 326, 333, 335, 338, 342, 374,\n",
       "            376, 378, 381, 391, 394, 413, 436, 439, 446, 454, 485, 487, 497,\n",
       "            499, 505, 506, 521, 528, 538, 545, 551, 558, 559, 582, 586, 588,\n",
       "            592, 610, 628, 660, 661, 680, 690, 699, 701, 709, 717, 731, 738,\n",
       "            742, 743, 760, 764, 766, 780, 790, 803, 821, 830, 836, 850, 857,\n",
       "            880],\n",
       "           dtype='int64', name='PassengerId')"
      ]
     },
     "execution_count": 64,
     "metadata": {},
     "output_type": "execute_result"
    }
   ],
   "source": [
    "indexF = jack['Fare'] > upperF\n",
    "jack.loc[indexF].index"
   ]
  },
  {
   "cell_type": "code",
   "execution_count": 65,
   "id": "e2a158e5",
   "metadata": {},
   "outputs": [],
   "source": [
    "jack.drop([ 28,  32,  35,  62,  63,  89, 103, 119, 125, 140, 196, 216, 225,\n",
    "            231, 246, 257, 258, 259, 263, 269, 270, 276, 291, 292, 298, 300,\n",
    "            306, 307, 308, 311, 312, 319, 320, 326, 333, 335, 338, 342, 374,\n",
    "            376, 378, 381, 391, 394, 413, 436, 439, 446, 454, 485, 487, 497,\n",
    "            499, 505, 506, 521, 528, 538, 545, 551, 558, 559, 582, 586, 588,\n",
    "            592, 610, 628, 660, 661, 680, 690, 699, 701, 709, 717, 731, 738,\n",
    "            742, 743, 760, 764, 766, 780, 790, 803, 821, 830, 836, 850, 857,\n",
    "            880], inplace = True)"
   ]
  },
  {
   "cell_type": "code",
   "execution_count": 66,
   "id": "2ac4d291",
   "metadata": {},
   "outputs": [
    {
     "data": {
      "text/plain": [
       "(792, 12)"
      ]
     },
     "execution_count": 66,
     "metadata": {},
     "output_type": "execute_result"
    }
   ],
   "source": [
    "jack.shape"
   ]
  },
  {
   "cell_type": "code",
   "execution_count": 67,
   "id": "54b808f7",
   "metadata": {},
   "outputs": [],
   "source": [
    "from sklearn.preprocessing import MinMaxScaler"
   ]
  },
  {
   "cell_type": "code",
   "execution_count": 69,
   "id": "3c47e08e",
   "metadata": {},
   "outputs": [],
   "source": [
    "min_max = jack['Survived']\n",
    "scaler = MinMaxScaler(feature_range=(0, 1))"
   ]
  }
 ],
 "metadata": {
  "kernelspec": {
   "display_name": "Python 3 (ipykernel)",
   "language": "python",
   "name": "python3"
  },
  "language_info": {
   "codemirror_mode": {
    "name": "ipython",
    "version": 3
   },
   "file_extension": ".py",
   "mimetype": "text/x-python",
   "name": "python",
   "nbconvert_exporter": "python",
   "pygments_lexer": "ipython3",
   "version": "3.10.9"
  }
 },
 "nbformat": 4,
 "nbformat_minor": 5
}
