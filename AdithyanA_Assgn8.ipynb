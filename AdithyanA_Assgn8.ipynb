{
 "cells": [
  {
   "cell_type": "code",
   "execution_count": 1,
   "id": "532401df-bbdc-4db5-a439-31250260b5b5",
   "metadata": {},
   "outputs": [],
   "source": [
    "import pandas as pd\n",
    "import numpy as np\n",
    "import matplotlib.pyplot as plt\n",
    "import seaborn as sns\n",
    "\n",
    "import warnings\n",
    "warnings.filterwarnings('ignore')"
   ]
  },
  {
   "cell_type": "code",
   "execution_count": 2,
   "id": "3e1d8240-1fc1-450e-a627-b351b9d5503e",
   "metadata": {},
   "outputs": [],
   "source": [
    "data = pd.read_csv(r\"C:\\Users\\ethan\\Downloads\\titanic_dataset  (1).csv\")"
   ]
  },
  {
   "cell_type": "code",
   "execution_count": 3,
   "id": "81d427d9-fd93-4606-b0ef-354cbbd7201b",
   "metadata": {},
   "outputs": [
    {
     "data": {
      "text/html": [
       "<div>\n",
       "<style scoped>\n",
       "    .dataframe tbody tr th:only-of-type {\n",
       "        vertical-align: middle;\n",
       "    }\n",
       "\n",
       "    .dataframe tbody tr th {\n",
       "        vertical-align: top;\n",
       "    }\n",
       "\n",
       "    .dataframe thead th {\n",
       "        text-align: right;\n",
       "    }\n",
       "</style>\n",
       "<table border=\"1\" class=\"dataframe\">\n",
       "  <thead>\n",
       "    <tr style=\"text-align: right;\">\n",
       "      <th></th>\n",
       "      <th>PassengerId</th>\n",
       "      <th>Survived</th>\n",
       "      <th>Pclass</th>\n",
       "      <th>Name</th>\n",
       "      <th>Sex</th>\n",
       "      <th>Age</th>\n",
       "      <th>SibSp</th>\n",
       "      <th>Parch</th>\n",
       "      <th>Ticket</th>\n",
       "      <th>Fare</th>\n",
       "      <th>Cabin</th>\n",
       "      <th>Embarked</th>\n",
       "    </tr>\n",
       "  </thead>\n",
       "  <tbody>\n",
       "    <tr>\n",
       "      <th>0</th>\n",
       "      <td>1</td>\n",
       "      <td>0</td>\n",
       "      <td>3</td>\n",
       "      <td>Braund, Mr. Owen Harris</td>\n",
       "      <td>male</td>\n",
       "      <td>22.0</td>\n",
       "      <td>1</td>\n",
       "      <td>0</td>\n",
       "      <td>A/5 21171</td>\n",
       "      <td>7.2500</td>\n",
       "      <td>NaN</td>\n",
       "      <td>S</td>\n",
       "    </tr>\n",
       "    <tr>\n",
       "      <th>1</th>\n",
       "      <td>2</td>\n",
       "      <td>1</td>\n",
       "      <td>1</td>\n",
       "      <td>Cumings, Mrs. John Bradley (Florence Briggs Th...</td>\n",
       "      <td>female</td>\n",
       "      <td>38.0</td>\n",
       "      <td>1</td>\n",
       "      <td>0</td>\n",
       "      <td>PC 17599</td>\n",
       "      <td>71.2833</td>\n",
       "      <td>C85</td>\n",
       "      <td>C</td>\n",
       "    </tr>\n",
       "    <tr>\n",
       "      <th>2</th>\n",
       "      <td>3</td>\n",
       "      <td>1</td>\n",
       "      <td>3</td>\n",
       "      <td>Heikkinen, Miss. Laina</td>\n",
       "      <td>female</td>\n",
       "      <td>26.0</td>\n",
       "      <td>0</td>\n",
       "      <td>0</td>\n",
       "      <td>STON/O2. 3101282</td>\n",
       "      <td>7.9250</td>\n",
       "      <td>NaN</td>\n",
       "      <td>S</td>\n",
       "    </tr>\n",
       "    <tr>\n",
       "      <th>3</th>\n",
       "      <td>4</td>\n",
       "      <td>1</td>\n",
       "      <td>1</td>\n",
       "      <td>Futrelle, Mrs. Jacques Heath (Lily May Peel)</td>\n",
       "      <td>female</td>\n",
       "      <td>35.0</td>\n",
       "      <td>1</td>\n",
       "      <td>0</td>\n",
       "      <td>113803</td>\n",
       "      <td>53.1000</td>\n",
       "      <td>C123</td>\n",
       "      <td>S</td>\n",
       "    </tr>\n",
       "  </tbody>\n",
       "</table>\n",
       "</div>"
      ],
      "text/plain": [
       "   PassengerId  Survived  Pclass  \\\n",
       "0            1         0       3   \n",
       "1            2         1       1   \n",
       "2            3         1       3   \n",
       "3            4         1       1   \n",
       "\n",
       "                                                Name     Sex   Age  SibSp  \\\n",
       "0                            Braund, Mr. Owen Harris    male  22.0      1   \n",
       "1  Cumings, Mrs. John Bradley (Florence Briggs Th...  female  38.0      1   \n",
       "2                             Heikkinen, Miss. Laina  female  26.0      0   \n",
       "3       Futrelle, Mrs. Jacques Heath (Lily May Peel)  female  35.0      1   \n",
       "\n",
       "   Parch            Ticket     Fare Cabin Embarked  \n",
       "0      0         A/5 21171   7.2500   NaN        S  \n",
       "1      0          PC 17599  71.2833   C85        C  \n",
       "2      0  STON/O2. 3101282   7.9250   NaN        S  \n",
       "3      0            113803  53.1000  C123        S  "
      ]
     },
     "execution_count": 3,
     "metadata": {},
     "output_type": "execute_result"
    }
   ],
   "source": [
    "data.head(4)"
   ]
  },
  {
   "cell_type": "code",
   "execution_count": 4,
   "id": "025ab81d-954a-44b1-8106-c61e967cdfb5",
   "metadata": {},
   "outputs": [
    {
     "data": {
      "text/plain": [
       "PassengerId      0\n",
       "Survived         0\n",
       "Pclass           0\n",
       "Name             0\n",
       "Sex              0\n",
       "Age            177\n",
       "SibSp            0\n",
       "Parch            0\n",
       "Ticket           0\n",
       "Fare             0\n",
       "Cabin          687\n",
       "Embarked         2\n",
       "dtype: int64"
      ]
     },
     "execution_count": 4,
     "metadata": {},
     "output_type": "execute_result"
    }
   ],
   "source": [
    "data.isnull().sum()"
   ]
  },
  {
   "cell_type": "markdown",
   "id": "e8bb5d8a-3ed9-4258-9503-af15cc65a565",
   "metadata": {},
   "source": [
    "#### Splitting names according to salutation and applying mean value to each salutation category to prevent children from assigning an ubnormal age value. "
   ]
  },
  {
   "cell_type": "code",
   "execution_count": 5,
   "id": "c384c3a7-d0d0-4748-9adb-f9ad48c0852d",
   "metadata": {},
   "outputs": [
    {
     "data": {
      "text/html": [
       "<div>\n",
       "<style scoped>\n",
       "    .dataframe tbody tr th:only-of-type {\n",
       "        vertical-align: middle;\n",
       "    }\n",
       "\n",
       "    .dataframe tbody tr th {\n",
       "        vertical-align: top;\n",
       "    }\n",
       "\n",
       "    .dataframe thead th {\n",
       "        text-align: right;\n",
       "    }\n",
       "</style>\n",
       "<table border=\"1\" class=\"dataframe\">\n",
       "  <thead>\n",
       "    <tr style=\"text-align: right;\">\n",
       "      <th></th>\n",
       "      <th>PassengerId</th>\n",
       "      <th>Survived</th>\n",
       "      <th>Pclass</th>\n",
       "      <th>Name</th>\n",
       "      <th>Sex</th>\n",
       "      <th>Age</th>\n",
       "      <th>SibSp</th>\n",
       "      <th>Parch</th>\n",
       "      <th>Ticket</th>\n",
       "      <th>Fare</th>\n",
       "      <th>Cabin</th>\n",
       "      <th>Embarked</th>\n",
       "      <th>salutation</th>\n",
       "    </tr>\n",
       "  </thead>\n",
       "  <tbody>\n",
       "    <tr>\n",
       "      <th>0</th>\n",
       "      <td>1</td>\n",
       "      <td>0</td>\n",
       "      <td>3</td>\n",
       "      <td>Braund, Mr. Owen Harris</td>\n",
       "      <td>male</td>\n",
       "      <td>22.0</td>\n",
       "      <td>1</td>\n",
       "      <td>0</td>\n",
       "      <td>A/5 21171</td>\n",
       "      <td>7.2500</td>\n",
       "      <td>NaN</td>\n",
       "      <td>S</td>\n",
       "      <td>Mr</td>\n",
       "    </tr>\n",
       "    <tr>\n",
       "      <th>1</th>\n",
       "      <td>2</td>\n",
       "      <td>1</td>\n",
       "      <td>1</td>\n",
       "      <td>Cumings, Mrs. John Bradley (Florence Briggs Th...</td>\n",
       "      <td>female</td>\n",
       "      <td>38.0</td>\n",
       "      <td>1</td>\n",
       "      <td>0</td>\n",
       "      <td>PC 17599</td>\n",
       "      <td>71.2833</td>\n",
       "      <td>C85</td>\n",
       "      <td>C</td>\n",
       "      <td>Mrs</td>\n",
       "    </tr>\n",
       "    <tr>\n",
       "      <th>2</th>\n",
       "      <td>3</td>\n",
       "      <td>1</td>\n",
       "      <td>3</td>\n",
       "      <td>Heikkinen, Miss. Laina</td>\n",
       "      <td>female</td>\n",
       "      <td>26.0</td>\n",
       "      <td>0</td>\n",
       "      <td>0</td>\n",
       "      <td>STON/O2. 3101282</td>\n",
       "      <td>7.9250</td>\n",
       "      <td>NaN</td>\n",
       "      <td>S</td>\n",
       "      <td>Miss</td>\n",
       "    </tr>\n",
       "    <tr>\n",
       "      <th>3</th>\n",
       "      <td>4</td>\n",
       "      <td>1</td>\n",
       "      <td>1</td>\n",
       "      <td>Futrelle, Mrs. Jacques Heath (Lily May Peel)</td>\n",
       "      <td>female</td>\n",
       "      <td>35.0</td>\n",
       "      <td>1</td>\n",
       "      <td>0</td>\n",
       "      <td>113803</td>\n",
       "      <td>53.1000</td>\n",
       "      <td>C123</td>\n",
       "      <td>S</td>\n",
       "      <td>Mrs</td>\n",
       "    </tr>\n",
       "  </tbody>\n",
       "</table>\n",
       "</div>"
      ],
      "text/plain": [
       "   PassengerId  Survived  Pclass  \\\n",
       "0            1         0       3   \n",
       "1            2         1       1   \n",
       "2            3         1       3   \n",
       "3            4         1       1   \n",
       "\n",
       "                                                Name     Sex   Age  SibSp  \\\n",
       "0                            Braund, Mr. Owen Harris    male  22.0      1   \n",
       "1  Cumings, Mrs. John Bradley (Florence Briggs Th...  female  38.0      1   \n",
       "2                             Heikkinen, Miss. Laina  female  26.0      0   \n",
       "3       Futrelle, Mrs. Jacques Heath (Lily May Peel)  female  35.0      1   \n",
       "\n",
       "   Parch            Ticket     Fare Cabin Embarked salutation  \n",
       "0      0         A/5 21171   7.2500   NaN        S         Mr  \n",
       "1      0          PC 17599  71.2833   C85        C        Mrs  \n",
       "2      0  STON/O2. 3101282   7.9250   NaN        S       Miss  \n",
       "3      0            113803  53.1000  C123        S        Mrs  "
      ]
     },
     "execution_count": 5,
     "metadata": {},
     "output_type": "execute_result"
    }
   ],
   "source": [
    "data['salutation'] = data['Name'].apply(lambda x: x.split(',')[1].split('.')[0].strip())\n",
    "data.head(4)"
   ]
  },
  {
   "cell_type": "code",
   "execution_count": 6,
   "id": "703add89-b7f6-4ec5-a255-fa085bfb394c",
   "metadata": {},
   "outputs": [],
   "source": [
    "temp = pd.concat([data.Age, data.salutation], axis = 1)"
   ]
  },
  {
   "cell_type": "code",
   "execution_count": 7,
   "id": "24614091-6f6c-4ef6-ab75-5af3068af859",
   "metadata": {},
   "outputs": [],
   "source": [
    "Mr = data[data['salutation'] == 'Mr']\n",
    "Miss = data[data['salutation'] == 'Miss']\n",
    "Master = data[data['salutation'] == 'Master'] \n",
    "Dr = data[data['salutation'] == 'Dr']\n",
    "Sir = data[data['salutation'] == 'Sir']\n",
    "Mrs = data[data['salutation'] == 'Mrs']"
   ]
  },
  {
   "cell_type": "code",
   "execution_count": 8,
   "id": "7c6fbb0a-ace4-4f23-bb6a-0c4699f664a2",
   "metadata": {},
   "outputs": [],
   "source": [
    "Mr['Age'] = Mr['Age'].fillna(Mr['Age'].mean())\n",
    "data.update(Mr)\n",
    "\n",
    "\n",
    "Miss['Age'] = Miss['Age'].fillna(Miss['Age'].mean())\n",
    "data.update(Miss)\n",
    "\n",
    "\n",
    "Master['Age'] = Master['Age'].fillna(Master['Age'].mean())\n",
    "data.update(Master)\n",
    "\n",
    "\n",
    "Dr['Age'] = Dr['Age'].fillna(Dr['Age'].mean())\n",
    "data.update(Dr)\n",
    "\n",
    "\n",
    "Mrs['Age'] = Mrs['Age'].fillna(Mrs['Age'].mean())\n",
    "data.update(Mrs)"
   ]
  },
  {
   "cell_type": "code",
   "execution_count": 9,
   "id": "ab9b4fba-56cd-4aa4-9a13-99b62533e9c6",
   "metadata": {},
   "outputs": [
    {
     "data": {
      "text/plain": [
       "PassengerId      0\n",
       "Survived         0\n",
       "Pclass           0\n",
       "Name             0\n",
       "Sex              0\n",
       "Age              0\n",
       "SibSp            0\n",
       "Parch            0\n",
       "Ticket           0\n",
       "Fare             0\n",
       "Cabin          687\n",
       "Embarked         2\n",
       "salutation       0\n",
       "dtype: int64"
      ]
     },
     "execution_count": 9,
     "metadata": {},
     "output_type": "execute_result"
    }
   ],
   "source": [
    "data.isna().sum()"
   ]
  },
  {
   "cell_type": "code",
   "execution_count": 10,
   "id": "dfa036ea-0ee1-4755-bbca-89ad242bfe6c",
   "metadata": {},
   "outputs": [],
   "source": [
    "data['Embarked'] = data['Embarked'].fillna(data['Embarked'].mode()[0])"
   ]
  },
  {
   "cell_type": "code",
   "execution_count": 11,
   "id": "1be375ef-15d6-4bfc-beff-5e3017929d2d",
   "metadata": {},
   "outputs": [],
   "source": [
    "data['Cabin'] = data['Cabin'].fillna('U')"
   ]
  },
  {
   "cell_type": "code",
   "execution_count": 12,
   "id": "df38fdba-9e0f-4b19-8a2b-e7e6f2133921",
   "metadata": {},
   "outputs": [
    {
     "data": {
      "text/plain": [
       "PassengerId    0\n",
       "Survived       0\n",
       "Pclass         0\n",
       "Name           0\n",
       "Sex            0\n",
       "Age            0\n",
       "SibSp          0\n",
       "Parch          0\n",
       "Ticket         0\n",
       "Fare           0\n",
       "Cabin          0\n",
       "Embarked       0\n",
       "salutation     0\n",
       "dtype: int64"
      ]
     },
     "execution_count": 12,
     "metadata": {},
     "output_type": "execute_result"
    }
   ],
   "source": [
    "data.isna().sum()"
   ]
  },
  {
   "cell_type": "code",
   "execution_count": 13,
   "id": "d4d4d77e-d35c-4c9c-892e-3bb7d868c267",
   "metadata": {},
   "outputs": [],
   "source": [
    "data = data.drop(['salutation', 'Cabin', 'Ticket', 'Name','PassengerId'], axis = 1)"
   ]
  },
  {
   "cell_type": "markdown",
   "id": "4e6829b6-d6b8-4890-87f3-4c2fa4320e59",
   "metadata": {},
   "source": [
    "## Performing Encoding"
   ]
  },
  {
   "cell_type": "code",
   "execution_count": 14,
   "id": "c7577cc1-8e72-4a6f-9236-0be4a15b1f3d",
   "metadata": {},
   "outputs": [
    {
     "data": {
      "text/html": [
       "<div>\n",
       "<style scoped>\n",
       "    .dataframe tbody tr th:only-of-type {\n",
       "        vertical-align: middle;\n",
       "    }\n",
       "\n",
       "    .dataframe tbody tr th {\n",
       "        vertical-align: top;\n",
       "    }\n",
       "\n",
       "    .dataframe thead th {\n",
       "        text-align: right;\n",
       "    }\n",
       "</style>\n",
       "<table border=\"1\" class=\"dataframe\">\n",
       "  <thead>\n",
       "    <tr style=\"text-align: right;\">\n",
       "      <th></th>\n",
       "      <th>Survived</th>\n",
       "      <th>Pclass</th>\n",
       "      <th>Sex</th>\n",
       "      <th>Age</th>\n",
       "      <th>SibSp</th>\n",
       "      <th>Parch</th>\n",
       "      <th>Fare</th>\n",
       "      <th>Embarked</th>\n",
       "    </tr>\n",
       "  </thead>\n",
       "  <tbody>\n",
       "    <tr>\n",
       "      <th>0</th>\n",
       "      <td>0.0</td>\n",
       "      <td>3.0</td>\n",
       "      <td>male</td>\n",
       "      <td>22.0</td>\n",
       "      <td>1.0</td>\n",
       "      <td>0.0</td>\n",
       "      <td>7.2500</td>\n",
       "      <td>S</td>\n",
       "    </tr>\n",
       "    <tr>\n",
       "      <th>1</th>\n",
       "      <td>1.0</td>\n",
       "      <td>1.0</td>\n",
       "      <td>female</td>\n",
       "      <td>38.0</td>\n",
       "      <td>1.0</td>\n",
       "      <td>0.0</td>\n",
       "      <td>71.2833</td>\n",
       "      <td>C</td>\n",
       "    </tr>\n",
       "    <tr>\n",
       "      <th>2</th>\n",
       "      <td>1.0</td>\n",
       "      <td>3.0</td>\n",
       "      <td>female</td>\n",
       "      <td>26.0</td>\n",
       "      <td>0.0</td>\n",
       "      <td>0.0</td>\n",
       "      <td>7.9250</td>\n",
       "      <td>S</td>\n",
       "    </tr>\n",
       "  </tbody>\n",
       "</table>\n",
       "</div>"
      ],
      "text/plain": [
       "   Survived  Pclass     Sex   Age  SibSp  Parch     Fare Embarked\n",
       "0       0.0     3.0    male  22.0    1.0    0.0   7.2500        S\n",
       "1       1.0     1.0  female  38.0    1.0    0.0  71.2833        C\n",
       "2       1.0     3.0  female  26.0    0.0    0.0   7.9250        S"
      ]
     },
     "execution_count": 14,
     "metadata": {},
     "output_type": "execute_result"
    }
   ],
   "source": [
    "data.head(3)"
   ]
  },
  {
   "cell_type": "code",
   "execution_count": 15,
   "id": "242a3fad-d4ab-4da1-9816-e57d489783b3",
   "metadata": {},
   "outputs": [],
   "source": [
    "from sklearn.preprocessing import LabelEncoder\n",
    "le = LabelEncoder()\n",
    "data['Sex'] = le.fit_transform(data['Sex'])"
   ]
  },
  {
   "cell_type": "code",
   "execution_count": 16,
   "id": "2c26dc44-6592-4d36-b627-63b8f8d0f20f",
   "metadata": {},
   "outputs": [
    {
     "data": {
      "text/html": [
       "<div>\n",
       "<style scoped>\n",
       "    .dataframe tbody tr th:only-of-type {\n",
       "        vertical-align: middle;\n",
       "    }\n",
       "\n",
       "    .dataframe tbody tr th {\n",
       "        vertical-align: top;\n",
       "    }\n",
       "\n",
       "    .dataframe thead th {\n",
       "        text-align: right;\n",
       "    }\n",
       "</style>\n",
       "<table border=\"1\" class=\"dataframe\">\n",
       "  <thead>\n",
       "    <tr style=\"text-align: right;\">\n",
       "      <th></th>\n",
       "      <th>Survived</th>\n",
       "      <th>Pclass</th>\n",
       "      <th>Sex</th>\n",
       "      <th>Age</th>\n",
       "      <th>SibSp</th>\n",
       "      <th>Parch</th>\n",
       "      <th>Fare</th>\n",
       "      <th>Embarked</th>\n",
       "    </tr>\n",
       "  </thead>\n",
       "  <tbody>\n",
       "    <tr>\n",
       "      <th>0</th>\n",
       "      <td>0.0</td>\n",
       "      <td>3.0</td>\n",
       "      <td>1</td>\n",
       "      <td>22.0</td>\n",
       "      <td>1.0</td>\n",
       "      <td>0.0</td>\n",
       "      <td>7.2500</td>\n",
       "      <td>S</td>\n",
       "    </tr>\n",
       "    <tr>\n",
       "      <th>1</th>\n",
       "      <td>1.0</td>\n",
       "      <td>1.0</td>\n",
       "      <td>0</td>\n",
       "      <td>38.0</td>\n",
       "      <td>1.0</td>\n",
       "      <td>0.0</td>\n",
       "      <td>71.2833</td>\n",
       "      <td>C</td>\n",
       "    </tr>\n",
       "    <tr>\n",
       "      <th>2</th>\n",
       "      <td>1.0</td>\n",
       "      <td>3.0</td>\n",
       "      <td>0</td>\n",
       "      <td>26.0</td>\n",
       "      <td>0.0</td>\n",
       "      <td>0.0</td>\n",
       "      <td>7.9250</td>\n",
       "      <td>S</td>\n",
       "    </tr>\n",
       "    <tr>\n",
       "      <th>3</th>\n",
       "      <td>1.0</td>\n",
       "      <td>1.0</td>\n",
       "      <td>0</td>\n",
       "      <td>35.0</td>\n",
       "      <td>1.0</td>\n",
       "      <td>0.0</td>\n",
       "      <td>53.1000</td>\n",
       "      <td>S</td>\n",
       "    </tr>\n",
       "  </tbody>\n",
       "</table>\n",
       "</div>"
      ],
      "text/plain": [
       "   Survived  Pclass  Sex   Age  SibSp  Parch     Fare Embarked\n",
       "0       0.0     3.0    1  22.0    1.0    0.0   7.2500        S\n",
       "1       1.0     1.0    0  38.0    1.0    0.0  71.2833        C\n",
       "2       1.0     3.0    0  26.0    0.0    0.0   7.9250        S\n",
       "3       1.0     1.0    0  35.0    1.0    0.0  53.1000        S"
      ]
     },
     "execution_count": 16,
     "metadata": {},
     "output_type": "execute_result"
    }
   ],
   "source": [
    "data.head(4)"
   ]
  },
  {
   "cell_type": "code",
   "execution_count": 17,
   "id": "b464fe03-c6e2-4e73-b97e-92cfa590a9e0",
   "metadata": {},
   "outputs": [],
   "source": [
    "data = pd.get_dummies(data, drop_first= True)"
   ]
  },
  {
   "cell_type": "code",
   "execution_count": 18,
   "id": "23394752-9331-4e48-b7dd-f43d7162be06",
   "metadata": {},
   "outputs": [
    {
     "data": {
      "text/html": [
       "<div>\n",
       "<style scoped>\n",
       "    .dataframe tbody tr th:only-of-type {\n",
       "        vertical-align: middle;\n",
       "    }\n",
       "\n",
       "    .dataframe tbody tr th {\n",
       "        vertical-align: top;\n",
       "    }\n",
       "\n",
       "    .dataframe thead th {\n",
       "        text-align: right;\n",
       "    }\n",
       "</style>\n",
       "<table border=\"1\" class=\"dataframe\">\n",
       "  <thead>\n",
       "    <tr style=\"text-align: right;\">\n",
       "      <th></th>\n",
       "      <th>Survived</th>\n",
       "      <th>Pclass</th>\n",
       "      <th>Sex</th>\n",
       "      <th>Age</th>\n",
       "      <th>SibSp</th>\n",
       "      <th>Parch</th>\n",
       "      <th>Fare</th>\n",
       "      <th>Embarked_Q</th>\n",
       "      <th>Embarked_S</th>\n",
       "    </tr>\n",
       "  </thead>\n",
       "  <tbody>\n",
       "    <tr>\n",
       "      <th>0</th>\n",
       "      <td>0.0</td>\n",
       "      <td>3.0</td>\n",
       "      <td>1</td>\n",
       "      <td>22.0</td>\n",
       "      <td>1.0</td>\n",
       "      <td>0.0</td>\n",
       "      <td>7.2500</td>\n",
       "      <td>0</td>\n",
       "      <td>1</td>\n",
       "    </tr>\n",
       "    <tr>\n",
       "      <th>1</th>\n",
       "      <td>1.0</td>\n",
       "      <td>1.0</td>\n",
       "      <td>0</td>\n",
       "      <td>38.0</td>\n",
       "      <td>1.0</td>\n",
       "      <td>0.0</td>\n",
       "      <td>71.2833</td>\n",
       "      <td>0</td>\n",
       "      <td>0</td>\n",
       "    </tr>\n",
       "    <tr>\n",
       "      <th>2</th>\n",
       "      <td>1.0</td>\n",
       "      <td>3.0</td>\n",
       "      <td>0</td>\n",
       "      <td>26.0</td>\n",
       "      <td>0.0</td>\n",
       "      <td>0.0</td>\n",
       "      <td>7.9250</td>\n",
       "      <td>0</td>\n",
       "      <td>1</td>\n",
       "    </tr>\n",
       "  </tbody>\n",
       "</table>\n",
       "</div>"
      ],
      "text/plain": [
       "   Survived  Pclass  Sex   Age  SibSp  Parch     Fare  Embarked_Q  Embarked_S\n",
       "0       0.0     3.0    1  22.0    1.0    0.0   7.2500           0           1\n",
       "1       1.0     1.0    0  38.0    1.0    0.0  71.2833           0           0\n",
       "2       1.0     3.0    0  26.0    0.0    0.0   7.9250           0           1"
      ]
     },
     "execution_count": 18,
     "metadata": {},
     "output_type": "execute_result"
    }
   ],
   "source": [
    "data.head(3)"
   ]
  },
  {
   "cell_type": "code",
   "execution_count": 19,
   "id": "44fb648f-301e-4aa6-b798-2f04bcc8a47d",
   "metadata": {},
   "outputs": [
    {
     "data": {
      "text/plain": [
       "<Axes: xlabel='Fare', ylabel='Density'>"
      ]
     },
     "execution_count": 19,
     "metadata": {},
     "output_type": "execute_result"
    },
    {
     "data": {
      "image/png": "[encoded data removed]",
      "text/plain": [
       "<Figure size 640x480 with 1 Axes>"
      ]
     },
     "metadata": {},
     "output_type": "display_data"
    }
   ],
   "source": [
    "sns.distplot(data.Fare)"
   ]
  },
  {
   "cell_type": "code",
   "execution_count": 20,
   "id": "2c5417af-baaa-4bee-9698-532c9cf07c92",
   "metadata": {},
   "outputs": [],
   "source": [
    "data['Fare'] = np.log(data['Fare'].replace(0, 0.1))"
   ]
  },
  {
   "cell_type": "code",
   "execution_count": 21,
   "id": "1556ba43-1c81-476d-9e8d-0d625c4c9a30",
   "metadata": {},
   "outputs": [
    {
     "data": {
      "text/plain": [
       "<Axes: xlabel='Fare', ylabel='Density'>"
      ]
     },
     "execution_count": 21,
     "metadata": {},
     "output_type": "execute_result"
    },
    {
     "data": {
      "image/png": "[encoded data removed]",
      "text/plain": [
       "<Figure size 640x480 with 1 Axes>"
      ]
     },
     "metadata": {},
     "output_type": "display_data"
    }
   ],
   "source": [
    "sns.distplot(data['Fare'])"
   ]
  },
  {
   "cell_type": "code",
   "execution_count": 22,
   "id": "794b400a-83f5-451a-92d7-f8ea39f67539",
   "metadata": {},
   "outputs": [
    {
     "data": {
      "text/html": [
       "<div>\n",
       "<style scoped>\n",
       "    .dataframe tbody tr th:only-of-type {\n",
       "        vertical-align: middle;\n",
       "    }\n",
       "\n",
       "    .dataframe tbody tr th {\n",
       "        vertical-align: top;\n",
       "    }\n",
       "\n",
       "    .dataframe thead th {\n",
       "        text-align: right;\n",
       "    }\n",
       "</style>\n",
       "<table border=\"1\" class=\"dataframe\">\n",
       "  <thead>\n",
       "    <tr style=\"text-align: right;\">\n",
       "      <th></th>\n",
       "      <th>Survived</th>\n",
       "      <th>Pclass</th>\n",
       "      <th>Sex</th>\n",
       "      <th>Age</th>\n",
       "      <th>SibSp</th>\n",
       "      <th>Parch</th>\n",
       "      <th>Fare</th>\n",
       "      <th>Embarked_Q</th>\n",
       "      <th>Embarked_S</th>\n",
       "    </tr>\n",
       "  </thead>\n",
       "  <tbody>\n",
       "    <tr>\n",
       "      <th>0</th>\n",
       "      <td>0.0</td>\n",
       "      <td>3.0</td>\n",
       "      <td>1</td>\n",
       "      <td>22.0</td>\n",
       "      <td>1.0</td>\n",
       "      <td>0.0</td>\n",
       "      <td>1.981001</td>\n",
       "      <td>0</td>\n",
       "      <td>1</td>\n",
       "    </tr>\n",
       "    <tr>\n",
       "      <th>1</th>\n",
       "      <td>1.0</td>\n",
       "      <td>1.0</td>\n",
       "      <td>0</td>\n",
       "      <td>38.0</td>\n",
       "      <td>1.0</td>\n",
       "      <td>0.0</td>\n",
       "      <td>4.266662</td>\n",
       "      <td>0</td>\n",
       "      <td>0</td>\n",
       "    </tr>\n",
       "    <tr>\n",
       "      <th>2</th>\n",
       "      <td>1.0</td>\n",
       "      <td>3.0</td>\n",
       "      <td>0</td>\n",
       "      <td>26.0</td>\n",
       "      <td>0.0</td>\n",
       "      <td>0.0</td>\n",
       "      <td>2.070022</td>\n",
       "      <td>0</td>\n",
       "      <td>1</td>\n",
       "    </tr>\n",
       "  </tbody>\n",
       "</table>\n",
       "</div>"
      ],
      "text/plain": [
       "   Survived  Pclass  Sex   Age  SibSp  Parch      Fare  Embarked_Q  Embarked_S\n",
       "0       0.0     3.0    1  22.0    1.0    0.0  1.981001           0           1\n",
       "1       1.0     1.0    0  38.0    1.0    0.0  4.266662           0           0\n",
       "2       1.0     3.0    0  26.0    0.0    0.0  2.070022           0           1"
      ]
     },
     "execution_count": 22,
     "metadata": {},
     "output_type": "execute_result"
    }
   ],
   "source": [
    "data.head(3)"
   ]
  },
  {
   "cell_type": "markdown",
   "id": "c2ba2278-f84f-4cb6-b852-7a424cf1e696",
   "metadata": {},
   "source": [
    "### Performing Train Test Split"
   ]
  },
  {
   "cell_type": "code",
   "execution_count": 23,
   "id": "f9288b30-e3e9-4950-b885-8cc81e747983",
   "metadata": {},
   "outputs": [],
   "source": [
    "inde = data.drop('Survived', axis = 1)\n",
    "dep= data['Survived']"
   ]
  },
  {
   "cell_type": "code",
   "execution_count": 24,
   "id": "213a5d12-c3c6-41b6-a843-a8ae4a6f617b",
   "metadata": {},
   "outputs": [],
   "source": [
    "from sklearn.model_selection import train_test_split\n",
    "inde_train, inde_test, dep_train, dep_test = train_test_split(inde, dep, test_size=0.25, random_state=46)"
   ]
  },
  {
   "cell_type": "markdown",
   "id": "7d5df869-eea0-4d61-bd18-660167cee768",
   "metadata": {},
   "source": [
    "#### k-NN"
   ]
  },
  {
   "cell_type": "code",
   "execution_count": 25,
   "id": "60f44c2e-dead-40df-9e1e-7ddb249edb4e",
   "metadata": {},
   "outputs": [],
   "source": [
    "from sklearn.neighbors import KNeighborsClassifier\n",
    "from sklearn.metrics import accuracy_score, confusion_matrix\n",
    "from sklearn import metrics"
   ]
  },
  {
   "cell_type": "code",
   "execution_count": 26,
   "id": "882bf8b8-dc97-4164-99dd-7e53533ec622",
   "metadata": {},
   "outputs": [],
   "source": [
    "knnAccMetrc = []\n",
    "n = np.arange(3,20)"
   ]
  },
  {
   "cell_type": "code",
   "execution_count": 27,
   "id": "c1cf4151-aead-428b-a075-fc719c01ead9",
   "metadata": {},
   "outputs": [],
   "source": [
    "for k in n:\n",
    "    knn = KNeighborsClassifier(n_neighbors=k, metric='euclidean')\n",
    "    knn.fit(inde_train, dep_train)\n",
    "    knnPred = knn.predict(inde_test)\n",
    "    acc = accuracy_score(dep_test, knnPred)\n",
    "    knnAccMetrc.append(acc)"
   ]
  },
  {
   "cell_type": "code",
   "execution_count": 28,
   "id": "caa0f969-d332-4023-b108-2317aeb1b92d",
   "metadata": {},
   "outputs": [
    {
     "data": {
      "image/png": "[encoded data removed]",
      "text/plain": [
       "<Figure size 1000x300 with 1 Axes>"
      ]
     },
     "metadata": {},
     "output_type": "display_data"
    }
   ],
   "source": [
    "plt.figure(figsize=(10,3))\n",
    "plt.plot(n,knnAccMetrc, 'X--')\n",
    "plt.grid()"
   ]
  },
  {
   "cell_type": "code",
   "execution_count": 29,
   "id": "d82cc0f6-14fc-425a-af0e-26287debbc58",
   "metadata": {},
   "outputs": [
    {
     "data": {
      "text/plain": [
       "0.8026905829596412"
      ]
     },
     "execution_count": 29,
     "metadata": {},
     "output_type": "execute_result"
    }
   ],
   "source": [
    "knn = KNeighborsClassifier(n_neighbors=7, metric='euclidean')\n",
    "knn.fit(inde_train, dep_train)\n",
    "knnPred = knn.predict(inde_test)\n",
    "knnacc = accuracy_score(dep_test, knnPred)\n",
    "knnacc"
   ]
  },
  {
   "cell_type": "code",
   "execution_count": 30,
   "id": "39e592b5-80e2-49e1-89eb-c7d2bee7d323",
   "metadata": {},
   "outputs": [
    {
     "data": {
      "text/plain": [
       "<Axes: >"
      ]
     },
     "execution_count": 30,
     "metadata": {},
     "output_type": "execute_result"
    },
    {
     "data": {
      "image/png": "[encoded data removed]",
      "text/plain": [
       "<Figure size 200x200 with 1 Axes>"
      ]
     },
     "metadata": {},
     "output_type": "display_data"
    }
   ],
   "source": [
    "plt.figure(figsize=(2,2))\n",
    "sns.heatmap(confusion_matrix(dep_test, knnPred), annot = True, cmap = 'BuPu', cbar = False)"
   ]
  },
  {
   "cell_type": "code",
   "execution_count": 31,
   "id": "3e084662-8d74-4682-a817-43fef9da245e",
   "metadata": {},
   "outputs": [
    {
     "name": "stdout",
     "output_type": "stream",
     "text": [
      "              precision    recall  f1-score   support\n",
      "\n",
      "         0.0       0.77      0.95      0.85       129\n",
      "         1.0       0.89      0.61      0.72        94\n",
      "\n",
      "    accuracy                           0.80       223\n",
      "   macro avg       0.83      0.78      0.78       223\n",
      "weighted avg       0.82      0.80      0.79       223\n",
      "\n"
     ]
    }
   ],
   "source": [
    "print(metrics.classification_report(dep_test, knnPred))"
   ]
  },
  {
   "cell_type": "markdown",
   "id": "9a89ace8-400c-4451-9c77-461854ccbe50",
   "metadata": {},
   "source": [
    "### Performing SVM"
   ]
  },
  {
   "cell_type": "code",
   "execution_count": 32,
   "id": "2aed5bdd-ecaa-4e21-95ca-ea546311adc7",
   "metadata": {},
   "outputs": [],
   "source": [
    "from sklearn.svm import SVC\n",
    "svmclf = SVC(kernel='linear')"
   ]
  },
  {
   "cell_type": "code",
   "execution_count": 33,
   "id": "3b25bcbe-8e17-49e8-8915-08243927a379",
   "metadata": {},
   "outputs": [],
   "source": [
    "svmclf.fit(inde_train, dep_train)\n",
    "svmPred = svmclf.predict(inde_test)"
   ]
  },
  {
   "cell_type": "code",
   "execution_count": 34,
   "id": "c6be24c3-50df-4c0c-9989-a4485e0be1a5",
   "metadata": {},
   "outputs": [],
   "source": [
    "svmacc = accuracy_score(dep_test, svmPred)"
   ]
  },
  {
   "cell_type": "code",
   "execution_count": 35,
   "id": "f342eb6b-6306-4fb9-99e3-1c942628b2e3",
   "metadata": {},
   "outputs": [
    {
     "data": {
      "text/plain": [
       "0.8116591928251121"
      ]
     },
     "execution_count": 35,
     "metadata": {},
     "output_type": "execute_result"
    }
   ],
   "source": [
    "svmacc"
   ]
  },
  {
   "cell_type": "code",
   "execution_count": 36,
   "id": "44d21a27-9c9b-4696-8076-5f8bcd477015",
   "metadata": {},
   "outputs": [
    {
     "data": {
      "text/plain": [
       "<Axes: >"
      ]
     },
     "execution_count": 36,
     "metadata": {},
     "output_type": "execute_result"
    },
    {
     "data": {
      "image/png": "[encoded data removed]",
      "text/plain": [
       "<Figure size 200x200 with 1 Axes>"
      ]
     },
     "metadata": {},
     "output_type": "display_data"
    }
   ],
   "source": [
    "plt.figure(figsize=(2,2))\n",
    "sns.heatmap(confusion_matrix(dep_test, svmPred), annot = True, cmap = 'BuPu', cbar = False)"
   ]
  },
  {
   "cell_type": "code",
   "execution_count": 37,
   "id": "42e367ca-7503-429b-b438-308d79c8f73c",
   "metadata": {},
   "outputs": [
    {
     "name": "stdout",
     "output_type": "stream",
     "text": [
      "              precision    recall  f1-score   support\n",
      "\n",
      "         0.0       0.81      0.88      0.84       129\n",
      "         1.0       0.82      0.71      0.76        94\n",
      "\n",
      "    accuracy                           0.81       223\n",
      "   macro avg       0.81      0.80      0.80       223\n",
      "weighted avg       0.81      0.81      0.81       223\n",
      "\n"
     ]
    }
   ],
   "source": [
    "print(metrics.classification_report(dep_test, svmPred))"
   ]
  },
  {
   "cell_type": "markdown",
   "id": "01343884-2255-4c60-b5a3-41a68ebc295c",
   "metadata": {},
   "source": [
    "## Performing Cross-Vlaidation"
   ]
  },
  {
   "cell_type": "markdown",
   "id": "109037f0-220d-49ab-be59-479a926d39ac",
   "metadata": {},
   "source": [
    "#### Knn K-Fold"
   ]
  },
  {
   "cell_type": "code",
   "execution_count": 38,
   "id": "95cd4b7e-2b6c-4a7a-8b47-e42659f63b47",
   "metadata": {},
   "outputs": [],
   "source": [
    "from sklearn.model_selection import KFold\n",
    "kfldval = KFold(10)"
   ]
  },
  {
   "cell_type": "code",
   "execution_count": 39,
   "id": "7b674661-2b33-4b08-b06b-e2356f2c6781",
   "metadata": {},
   "outputs": [],
   "source": [
    "from sklearn.model_selection import cross_val_score\n",
    "knnScore = cross_val_score(knn, inde, dep, cv = kfldval)"
   ]
  },
  {
   "cell_type": "code",
   "execution_count": 40,
   "id": "26eed1aa-62e0-4b1d-a735-67d453aea098",
   "metadata": {},
   "outputs": [
    {
     "data": {
      "text/plain": [
       "array([0.71111111, 0.79775281, 0.74157303, 0.79775281, 0.76404494,\n",
       "       0.76404494, 0.78651685, 0.78651685, 0.82022472, 0.82022472])"
      ]
     },
     "execution_count": 40,
     "metadata": {},
     "output_type": "execute_result"
    }
   ],
   "source": [
    "knnScore"
   ]
  },
  {
   "cell_type": "code",
   "execution_count": 41,
   "id": "433a93d3-a23e-475a-89f7-7035b1695819",
   "metadata": {},
   "outputs": [],
   "source": [
    "knnCVScorekfld = np.mean(knnScore)"
   ]
  },
  {
   "cell_type": "code",
   "execution_count": 42,
   "id": "487e1bfe-aebc-4d5a-a37f-36114ef15401",
   "metadata": {},
   "outputs": [
    {
     "data": {
      "text/plain": [
       "0.7789762796504369"
      ]
     },
     "execution_count": 42,
     "metadata": {},
     "output_type": "execute_result"
    }
   ],
   "source": [
    "knnCVScorekfld"
   ]
  },
  {
   "cell_type": "markdown",
   "id": "a7f59dfd-e897-4480-a310-bd32a28e145f",
   "metadata": {},
   "source": [
    "### k-NN Strat "
   ]
  },
  {
   "cell_type": "code",
   "execution_count": 43,
   "id": "dd14cd2c-e648-45c6-b654-10f17b7ff25a",
   "metadata": {},
   "outputs": [],
   "source": [
    "from sklearn.model_selection import StratifiedKFold\n",
    "knnskval = StratifiedKFold(n_splits=9)"
   ]
  },
  {
   "cell_type": "code",
   "execution_count": 44,
   "id": "c5fbafc4-c621-42c4-8b3e-d3b49959f5d8",
   "metadata": {},
   "outputs": [
    {
     "data": {
      "text/plain": [
       "array([0.74747475, 0.74747475, 0.76767677, 0.82828283, 0.75757576,\n",
       "       0.71717172, 0.82828283, 0.82828283, 0.7979798 ])"
      ]
     },
     "execution_count": 44,
     "metadata": {},
     "output_type": "execute_result"
    }
   ],
   "source": [
    "StratScoreknn = cross_val_score(knn, inde, dep, cv = knnskval)\n",
    "StratScoreknn"
   ]
  },
  {
   "cell_type": "code",
   "execution_count": 46,
   "id": "a5691c6a-3f2f-4aed-b0a7-84f02ca8d499",
   "metadata": {},
   "outputs": [],
   "source": [
    "KnnStratScore = np.mean(StratScoreknn)"
   ]
  },
  {
   "cell_type": "code",
   "execution_count": 47,
   "id": "84378619-4fd4-494b-98b3-e574115a1bd7",
   "metadata": {},
   "outputs": [
    {
     "data": {
      "text/plain": [
       "0.7800224466891135"
      ]
     },
     "execution_count": 47,
     "metadata": {},
     "output_type": "execute_result"
    }
   ],
   "source": [
    "KnnStratScore"
   ]
  },
  {
   "cell_type": "markdown",
   "id": "4d6398f2-7182-4dc2-8ffa-f17dab871a1f",
   "metadata": {},
   "source": [
    "### SVM Kfold"
   ]
  },
  {
   "cell_type": "code",
   "execution_count": 48,
   "id": "153920f2-ec4c-4197-9c8a-bdefdeff5417",
   "metadata": {},
   "outputs": [],
   "source": [
    "from sklearn.model_selection import KFold\n",
    "kfldvalSVM = KFold(9)"
   ]
  },
  {
   "cell_type": "code",
   "execution_count": 56,
   "id": "f5369258-b074-4ede-ba49-13ca90b2f65f",
   "metadata": {},
   "outputs": [],
   "source": [
    "from sklearn.model_selection import cross_val_score\n",
    "SVMkfoldScore = cross_val_score(svmclf, inde, dep, cv = kfldvalSVM)"
   ]
  },
  {
   "cell_type": "code",
   "execution_count": 57,
   "id": "9c93980d-a2bd-453a-bfba-cf31ce348ee4",
   "metadata": {},
   "outputs": [
    {
     "data": {
      "text/plain": [
       "array([0.81818182, 0.80808081, 0.75757576, 0.85858586, 0.75757576,\n",
       "       0.74747475, 0.73737374, 0.82828283, 0.76767677])"
      ]
     },
     "execution_count": 57,
     "metadata": {},
     "output_type": "execute_result"
    }
   ],
   "source": [
    "SVMkfoldScore"
   ]
  },
  {
   "cell_type": "code",
   "execution_count": 58,
   "id": "b908d5c3-f59b-4353-92ca-ba7a37fadd5e",
   "metadata": {},
   "outputs": [],
   "source": [
    "SVMkfoldScore = np.mean(SVMkfoldScore)"
   ]
  },
  {
   "cell_type": "code",
   "execution_count": 59,
   "id": "64f27056-2479-42cc-abd5-d98d48e4d34e",
   "metadata": {},
   "outputs": [
    {
     "data": {
      "text/plain": [
       "0.7867564534231201"
      ]
     },
     "execution_count": 59,
     "metadata": {},
     "output_type": "execute_result"
    }
   ],
   "source": [
    "SVMkfoldScore"
   ]
  },
  {
   "cell_type": "markdown",
   "id": "12733e16-ba30-497a-bed4-c3aabbaf0881",
   "metadata": {},
   "source": [
    "#### SVM Strat"
   ]
  },
  {
   "cell_type": "code",
   "execution_count": 61,
   "id": "26485a68-78ec-40f8-9d5f-b1b4cc196742",
   "metadata": {},
   "outputs": [],
   "source": [
    "from sklearn.model_selection import StratifiedKFold\n",
    "skval = StratifiedKFold(n_splits=9)"
   ]
  },
  {
   "cell_type": "code",
   "execution_count": 62,
   "id": "0cfefa7a-2a35-46ff-9d8e-f54d5f4986a3",
   "metadata": {},
   "outputs": [
    {
     "data": {
      "text/plain": [
       "array([0.81818182, 0.77777778, 0.76767677, 0.88888889, 0.75757576,\n",
       "       0.75757576, 0.73737374, 0.80808081, 0.76767677])"
      ]
     },
     "execution_count": 62,
     "metadata": {},
     "output_type": "execute_result"
    }
   ],
   "source": [
    "StratScore = cross_val_score(svmclf, inde, dep, cv = skval)\n",
    "StratScore"
   ]
  },
  {
   "cell_type": "code",
   "execution_count": 65,
   "id": "8c366ad6-16c3-4935-ab00-3527572a57de",
   "metadata": {},
   "outputs": [],
   "source": [
    "SVMStratScore = np.mean(StratScore)"
   ]
  },
  {
   "cell_type": "code",
   "execution_count": 67,
   "id": "0da0c21e-da30-4dd6-9df2-3d53bd87ecaa",
   "metadata": {},
   "outputs": [
    {
     "data": {
      "text/plain": [
       "0.7867564534231201"
      ]
     },
     "execution_count": 67,
     "metadata": {},
     "output_type": "execute_result"
    }
   ],
   "source": [
    "SVMStratScore"
   ]
  },
  {
   "cell_type": "code",
   "execution_count": 68,
   "id": "ede75ef0-6ec3-4aa4-8758-3b4d3d54eb64",
   "metadata": {},
   "outputs": [],
   "source": [
    "accuracyDF = {'k-NN Hold Out':knnacc, 'knn Kfold':knnCVScorekfld,'knn Strat': KnnStratScore, 'SVM Hold Out':svmacc, 'SVM Kfold':SVMkfoldScore, 'SVM Strat':SVMStratScore }"
   ]
  },
  {
   "cell_type": "code",
   "execution_count": 71,
   "id": "cfde66dc-ebc9-4e43-b3d9-1d0264e91362",
   "metadata": {},
   "outputs": [],
   "source": [
    "accuracyDF = pd.Series(accuracyDF)"
   ]
  },
  {
   "cell_type": "code",
   "execution_count": 73,
   "id": "a24dcb6e-eba2-4e4d-8ad7-2278f321c997",
   "metadata": {},
   "outputs": [],
   "source": [
    "accuracyDF = pd.DataFrame(accuracyDF)"
   ]
  },
  {
   "cell_type": "code",
   "execution_count": 75,
   "id": "6c35f679-91af-47ec-843c-b982ff24d3a2",
   "metadata": {},
   "outputs": [],
   "source": [
    "accuracyDF.columns = ['Accuracy Values']"
   ]
  },
  {
   "cell_type": "markdown",
   "id": "da64cae5-c8dd-4846-a4de-d960bd2f3161",
   "metadata": {},
   "source": [
    "---"
   ]
  },
  {
   "cell_type": "code",
   "execution_count": 76,
   "id": "4a1276f0-48f5-47a3-b303-f31514139d45",
   "metadata": {},
   "outputs": [
    {
     "data": {
      "text/html": [
       "<div>\n",
       "<style scoped>\n",
       "    .dataframe tbody tr th:only-of-type {\n",
       "        vertical-align: middle;\n",
       "    }\n",
       "\n",
       "    .dataframe tbody tr th {\n",
       "        vertical-align: top;\n",
       "    }\n",
       "\n",
       "    .dataframe thead th {\n",
       "        text-align: right;\n",
       "    }\n",
       "</style>\n",
       "<table border=\"1\" class=\"dataframe\">\n",
       "  <thead>\n",
       "    <tr style=\"text-align: right;\">\n",
       "      <th></th>\n",
       "      <th>Accuracy Values</th>\n",
       "    </tr>\n",
       "  </thead>\n",
       "  <tbody>\n",
       "    <tr>\n",
       "      <th>k-NN Hold Out</th>\n",
       "      <td>0.802691</td>\n",
       "    </tr>\n",
       "    <tr>\n",
       "      <th>knn Kfold</th>\n",
       "      <td>0.778976</td>\n",
       "    </tr>\n",
       "    <tr>\n",
       "      <th>knn Strat</th>\n",
       "      <td>0.780022</td>\n",
       "    </tr>\n",
       "    <tr>\n",
       "      <th>SVM Hold Out</th>\n",
       "      <td>0.811659</td>\n",
       "    </tr>\n",
       "    <tr>\n",
       "      <th>SVM Kfold</th>\n",
       "      <td>0.786756</td>\n",
       "    </tr>\n",
       "    <tr>\n",
       "      <th>SVM Strat</th>\n",
       "      <td>0.786756</td>\n",
       "    </tr>\n",
       "  </tbody>\n",
       "</table>\n",
       "</div>"
      ],
      "text/plain": [
       "               Accuracy Values\n",
       "k-NN Hold Out         0.802691\n",
       "knn Kfold             0.778976\n",
       "knn Strat             0.780022\n",
       "SVM Hold Out          0.811659\n",
       "SVM Kfold             0.786756\n",
       "SVM Strat             0.786756"
      ]
     },
     "execution_count": 76,
     "metadata": {},
     "output_type": "execute_result"
    }
   ],
   "source": [
    "accuracyDF"
   ]
  },
  {
   "cell_type": "markdown",
   "id": "42203191-6361-4b13-bc8d-86eebb23b6ed",
   "metadata": {},
   "source": [
    "---"
   ]
  }
 ],
 "metadata": {
  "kernelspec": {
   "display_name": "Python 3 (ipykernel)",
   "language": "python",
   "name": "python3"
  },
  "language_info": {
   "codemirror_mode": {
    "name": "ipython",
    "version": 3
   },
   "file_extension": ".py",
   "mimetype": "text/x-python",
   "name": "python",
   "nbconvert_exporter": "python",
   "pygments_lexer": "ipython3",
   "version": "3.10.9"
  }
 },
 "nbformat": 4,
 "nbformat_minor": 5
}
