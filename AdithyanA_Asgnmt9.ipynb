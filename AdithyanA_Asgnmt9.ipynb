{
 "cells": [
  {
   "cell_type": "code",
   "execution_count": 1,
   "id": "a3e46c7b-4f57-473a-ae4e-1c7bf5cf0c1e",
   "metadata": {},
   "outputs": [],
   "source": [
    "import pandas as pd\n",
    "import numpy as np \n",
    "import matplotlib.pyplot as plt\n",
    "import seaborn as sns\n"
   ]
  },
  {
   "cell_type": "code",
   "execution_count": 94,
   "id": "72f35650-2075-4851-b4e4-3f27e8a9d3c7",
   "metadata": {},
   "outputs": [],
   "source": [
    "data = pd.read_csv(r\"C:\\Users\\ethan\\Downloads\\Wine_clust .csv\")"
   ]
  },
  {
   "cell_type": "code",
   "execution_count": 95,
   "id": "c8298cf7-8c06-4eba-bffe-1ef3496ab285",
   "metadata": {},
   "outputs": [
    {
     "data": {
      "text/html": [
       "<div>\n",
       "<style scoped>\n",
       "    .dataframe tbody tr th:only-of-type {\n",
       "        vertical-align: middle;\n",
       "    }\n",
       "\n",
       "    .dataframe tbody tr th {\n",
       "        vertical-align: top;\n",
       "    }\n",
       "\n",
       "    .dataframe thead th {\n",
       "        text-align: right;\n",
       "    }\n",
       "</style>\n",
       "<table border=\"1\" class=\"dataframe\">\n",
       "  <thead>\n",
       "    <tr style=\"text-align: right;\">\n",
       "      <th></th>\n",
       "      <th>Alcohol</th>\n",
       "      <th>Malic_Acid</th>\n",
       "      <th>Ash</th>\n",
       "      <th>Ash_Alcanity</th>\n",
       "      <th>Magnesium</th>\n",
       "      <th>Total_Phenols</th>\n",
       "      <th>Flavanoids</th>\n",
       "      <th>Nonflavanoid_Phenols</th>\n",
       "      <th>Proanthocyanins</th>\n",
       "      <th>Color_Intensity</th>\n",
       "      <th>Hue</th>\n",
       "      <th>OD280</th>\n",
       "      <th>Proline</th>\n",
       "    </tr>\n",
       "  </thead>\n",
       "  <tbody>\n",
       "    <tr>\n",
       "      <th>0</th>\n",
       "      <td>14.23</td>\n",
       "      <td>1.71</td>\n",
       "      <td>2.43</td>\n",
       "      <td>15.6</td>\n",
       "      <td>127</td>\n",
       "      <td>2.80</td>\n",
       "      <td>3.06</td>\n",
       "      <td>0.28</td>\n",
       "      <td>2.29</td>\n",
       "      <td>5.64</td>\n",
       "      <td>1.04</td>\n",
       "      <td>3.92</td>\n",
       "      <td>1065</td>\n",
       "    </tr>\n",
       "    <tr>\n",
       "      <th>1</th>\n",
       "      <td>13.20</td>\n",
       "      <td>1.78</td>\n",
       "      <td>2.14</td>\n",
       "      <td>11.2</td>\n",
       "      <td>100</td>\n",
       "      <td>2.65</td>\n",
       "      <td>2.76</td>\n",
       "      <td>0.26</td>\n",
       "      <td>1.28</td>\n",
       "      <td>4.38</td>\n",
       "      <td>1.05</td>\n",
       "      <td>3.40</td>\n",
       "      <td>1050</td>\n",
       "    </tr>\n",
       "    <tr>\n",
       "      <th>2</th>\n",
       "      <td>13.16</td>\n",
       "      <td>2.36</td>\n",
       "      <td>2.67</td>\n",
       "      <td>18.6</td>\n",
       "      <td>101</td>\n",
       "      <td>2.80</td>\n",
       "      <td>3.24</td>\n",
       "      <td>0.30</td>\n",
       "      <td>2.81</td>\n",
       "      <td>5.68</td>\n",
       "      <td>1.03</td>\n",
       "      <td>3.17</td>\n",
       "      <td>1185</td>\n",
       "    </tr>\n",
       "    <tr>\n",
       "      <th>3</th>\n",
       "      <td>14.37</td>\n",
       "      <td>1.95</td>\n",
       "      <td>2.50</td>\n",
       "      <td>16.8</td>\n",
       "      <td>113</td>\n",
       "      <td>3.85</td>\n",
       "      <td>3.49</td>\n",
       "      <td>0.24</td>\n",
       "      <td>2.18</td>\n",
       "      <td>7.80</td>\n",
       "      <td>0.86</td>\n",
       "      <td>3.45</td>\n",
       "      <td>1480</td>\n",
       "    </tr>\n",
       "    <tr>\n",
       "      <th>4</th>\n",
       "      <td>13.24</td>\n",
       "      <td>2.59</td>\n",
       "      <td>2.87</td>\n",
       "      <td>21.0</td>\n",
       "      <td>118</td>\n",
       "      <td>2.80</td>\n",
       "      <td>2.69</td>\n",
       "      <td>0.39</td>\n",
       "      <td>1.82</td>\n",
       "      <td>4.32</td>\n",
       "      <td>1.04</td>\n",
       "      <td>2.93</td>\n",
       "      <td>735</td>\n",
       "    </tr>\n",
       "    <tr>\n",
       "      <th>5</th>\n",
       "      <td>14.20</td>\n",
       "      <td>1.76</td>\n",
       "      <td>2.45</td>\n",
       "      <td>15.2</td>\n",
       "      <td>112</td>\n",
       "      <td>3.27</td>\n",
       "      <td>3.39</td>\n",
       "      <td>0.34</td>\n",
       "      <td>1.97</td>\n",
       "      <td>6.75</td>\n",
       "      <td>1.05</td>\n",
       "      <td>2.85</td>\n",
       "      <td>1450</td>\n",
       "    </tr>\n",
       "    <tr>\n",
       "      <th>6</th>\n",
       "      <td>14.39</td>\n",
       "      <td>1.87</td>\n",
       "      <td>2.45</td>\n",
       "      <td>14.6</td>\n",
       "      <td>96</td>\n",
       "      <td>2.50</td>\n",
       "      <td>2.52</td>\n",
       "      <td>0.30</td>\n",
       "      <td>1.98</td>\n",
       "      <td>5.25</td>\n",
       "      <td>1.02</td>\n",
       "      <td>3.58</td>\n",
       "      <td>1290</td>\n",
       "    </tr>\n",
       "    <tr>\n",
       "      <th>7</th>\n",
       "      <td>14.06</td>\n",
       "      <td>2.15</td>\n",
       "      <td>2.61</td>\n",
       "      <td>17.6</td>\n",
       "      <td>121</td>\n",
       "      <td>2.60</td>\n",
       "      <td>2.51</td>\n",
       "      <td>0.31</td>\n",
       "      <td>1.25</td>\n",
       "      <td>5.05</td>\n",
       "      <td>1.06</td>\n",
       "      <td>3.58</td>\n",
       "      <td>1295</td>\n",
       "    </tr>\n",
       "    <tr>\n",
       "      <th>8</th>\n",
       "      <td>14.83</td>\n",
       "      <td>1.64</td>\n",
       "      <td>2.17</td>\n",
       "      <td>14.0</td>\n",
       "      <td>97</td>\n",
       "      <td>2.80</td>\n",
       "      <td>2.98</td>\n",
       "      <td>0.29</td>\n",
       "      <td>1.98</td>\n",
       "      <td>5.20</td>\n",
       "      <td>1.08</td>\n",
       "      <td>2.85</td>\n",
       "      <td>1045</td>\n",
       "    </tr>\n",
       "    <tr>\n",
       "      <th>9</th>\n",
       "      <td>13.86</td>\n",
       "      <td>1.35</td>\n",
       "      <td>2.27</td>\n",
       "      <td>16.0</td>\n",
       "      <td>98</td>\n",
       "      <td>2.98</td>\n",
       "      <td>3.15</td>\n",
       "      <td>0.22</td>\n",
       "      <td>1.85</td>\n",
       "      <td>7.22</td>\n",
       "      <td>1.01</td>\n",
       "      <td>3.55</td>\n",
       "      <td>1045</td>\n",
       "    </tr>\n",
       "  </tbody>\n",
       "</table>\n",
       "</div>"
      ],
      "text/plain": [
       "   Alcohol  Malic_Acid   Ash  Ash_Alcanity  Magnesium  Total_Phenols  \\\n",
       "0    14.23        1.71  2.43          15.6        127           2.80   \n",
       "1    13.20        1.78  2.14          11.2        100           2.65   \n",
       "2    13.16        2.36  2.67          18.6        101           2.80   \n",
       "3    14.37        1.95  2.50          16.8        113           3.85   \n",
       "4    13.24        2.59  2.87          21.0        118           2.80   \n",
       "5    14.20        1.76  2.45          15.2        112           3.27   \n",
       "6    14.39        1.87  2.45          14.6         96           2.50   \n",
       "7    14.06        2.15  2.61          17.6        121           2.60   \n",
       "8    14.83        1.64  2.17          14.0         97           2.80   \n",
       "9    13.86        1.35  2.27          16.0         98           2.98   \n",
       "\n",
       "   Flavanoids  Nonflavanoid_Phenols  Proanthocyanins  Color_Intensity   Hue  \\\n",
       "0        3.06                  0.28             2.29             5.64  1.04   \n",
       "1        2.76                  0.26             1.28             4.38  1.05   \n",
       "2        3.24                  0.30             2.81             5.68  1.03   \n",
       "3        3.49                  0.24             2.18             7.80  0.86   \n",
       "4        2.69                  0.39             1.82             4.32  1.04   \n",
       "5        3.39                  0.34             1.97             6.75  1.05   \n",
       "6        2.52                  0.30             1.98             5.25  1.02   \n",
       "7        2.51                  0.31             1.25             5.05  1.06   \n",
       "8        2.98                  0.29             1.98             5.20  1.08   \n",
       "9        3.15                  0.22             1.85             7.22  1.01   \n",
       "\n",
       "   OD280  Proline  \n",
       "0   3.92     1065  \n",
       "1   3.40     1050  \n",
       "2   3.17     1185  \n",
       "3   3.45     1480  \n",
       "4   2.93      735  \n",
       "5   2.85     1450  \n",
       "6   3.58     1290  \n",
       "7   3.58     1295  \n",
       "8   2.85     1045  \n",
       "9   3.55     1045  "
      ]
     },
     "execution_count": 95,
     "metadata": {},
     "output_type": "execute_result"
    }
   ],
   "source": [
    "data.head(10)"
   ]
  },
  {
   "cell_type": "code",
   "execution_count": 96,
   "id": "8923dd68-5f6f-425a-9581-833ad220d950",
   "metadata": {},
   "outputs": [
    {
     "data": {
      "text/plain": [
       "0"
      ]
     },
     "execution_count": 96,
     "metadata": {},
     "output_type": "execute_result"
    }
   ],
   "source": [
    "data.isnull().sum().sum()"
   ]
  },
  {
   "cell_type": "markdown",
   "id": "d0e1fd74-0de2-4e61-99d8-c264b16e1688",
   "metadata": {},
   "source": [
    "### Performing PCA to reduce the features. "
   ]
  },
  {
   "cell_type": "markdown",
   "id": "5c9f9edf-5ca2-442c-8457-540dc81bd685",
   "metadata": {},
   "source": [
    "#### Before PCA we need to scale our data. "
   ]
  },
  {
   "cell_type": "code",
   "execution_count": 97,
   "id": "7b2210c1-82c3-446e-8532-500328be9e9d",
   "metadata": {},
   "outputs": [],
   "source": [
    "from sklearn.preprocessing import StandardScaler\n",
    "data = StandardScaler().fit_transform(data)"
   ]
  },
  {
   "cell_type": "code",
   "execution_count": 98,
   "id": "d4f7f7a3-6296-43df-a41e-7c01b8e378f4",
   "metadata": {},
   "outputs": [
    {
     "data": {
      "text/plain": [
       "(178, 13)"
      ]
     },
     "execution_count": 98,
     "metadata": {},
     "output_type": "execute_result"
    }
   ],
   "source": [
    "data.shape"
   ]
  },
  {
   "cell_type": "code",
   "execution_count": 99,
   "id": "52aaa7f1-1d8e-4659-b772-fe9bb280a748",
   "metadata": {},
   "outputs": [],
   "source": [
    "# importing PCA\n",
    "from sklearn.decomposition import PCA\n",
    "rdcd_data = PCA(n_components= 0.95).fit_transform(data)"
   ]
  },
  {
   "cell_type": "code",
   "execution_count": 100,
   "id": "e078764d-0530-48de-8271-7d308907bcea",
   "metadata": {},
   "outputs": [
    {
     "data": {
      "text/plain": [
       "(178, 10)"
      ]
     },
     "execution_count": 100,
     "metadata": {},
     "output_type": "execute_result"
    }
   ],
   "source": [
    "rdcd_data.shape"
   ]
  },
  {
   "cell_type": "code",
   "execution_count": 101,
   "id": "5e5b718b-e26a-4e04-989c-ad2c7186923f",
   "metadata": {},
   "outputs": [
    {
     "name": "stdout",
     "output_type": "stream",
     "text": [
      "Columns before 13 .\n",
      "Columns after 10 .\n"
     ]
    }
   ],
   "source": [
    "print('Columns before',data.shape[1],'.')\n",
    "print('Columns after',rdcd_data.shape[1],'.')"
   ]
  },
  {
   "cell_type": "code",
   "execution_count": 102,
   "id": "2ee519a2-ad82-474b-8170-6294530dfd09",
   "metadata": {},
   "outputs": [
    {
     "data": {
      "text/plain": [
       "0.9616971684450645"
      ]
     },
     "execution_count": 102,
     "metadata": {},
     "output_type": "execute_result"
    }
   ],
   "source": [
    "#finding the cumulative sum.\n",
    "rdcd_data_temp = PCA(n_components= 0.95).fit(data)\n",
    "np.cumsum(rdcd_data_temp.explained_variance_ratio_)[-1]"
   ]
  },
  {
   "cell_type": "markdown",
   "id": "9392309e-0ede-42fb-9e71-8f0285e4130a",
   "metadata": {},
   "source": [
    "# Performing KMeans clustering"
   ]
  },
  {
   "cell_type": "markdown",
   "id": "58102491-3e0e-481f-85af-9ca2a40d3e41",
   "metadata": {},
   "source": [
    "### Finding the perfect number of clusters with the help of WCSS"
   ]
  },
  {
   "cell_type": "code",
   "execution_count": 103,
   "id": "00339488-a623-4503-8297-b87f80f8b387",
   "metadata": {},
   "outputs": [],
   "source": [
    "from sklearn.cluster import KMeans"
   ]
  },
  {
   "cell_type": "code",
   "execution_count": 104,
   "id": "a38100c4-4174-4f38-a0cf-c3a1dd5a7040",
   "metadata": {},
   "outputs": [],
   "source": [
    "wcss = []\n",
    "for i in range(1,16):\n",
    "    kmcl = KMeans(n_clusters= i, init= 'k-means++', n_init=10, random_state= 46)\n",
    "    kmcl.fit(rdcd_data)\n",
    "    wcss.append(kmcl.inertia_)"
   ]
  },
  {
   "cell_type": "markdown",
   "id": "d39071df-067c-4a72-a5ef-714c8b0b1653",
   "metadata": {},
   "source": [
    "##### Plotting Elbow graph"
   ]
  },
  {
   "cell_type": "code",
   "execution_count": 105,
   "id": "72bc0705-9dc3-495e-8063-2dc1c2435bce",
   "metadata": {},
   "outputs": [
    {
     "data": {
      "text/plain": [
       "[<matplotlib.lines.Line2D at 0x184a0f63d30>]"
      ]
     },
     "execution_count": 105,
     "metadata": {},
     "output_type": "execute_result"
    },
    {
     "data": {
      "image/png": "[encoded data removed]",
      "text/plain": [
       "<Figure size 2000x800 with 1 Axes>"
      ]
     },
     "metadata": {},
     "output_type": "display_data"
    }
   ],
   "source": [
    "plt.figure(figsize=(20,8))\n",
    "plt.plot(range(1,16), wcss)"
   ]
  },
  {
   "cell_type": "markdown",
   "id": "7ae49fb1-ba47-4e89-b752-3bca311f84fd",
   "metadata": {},
   "source": [
    "#### From the elbow graph it is clear that a cluster number of 3 is perfect for this particular dataset."
   ]
  },
  {
   "cell_type": "code",
   "execution_count": 106,
   "id": "4c8aa908-2007-412d-bb65-d1710512d368",
   "metadata": {},
   "outputs": [
    {
     "data": {
      "text/plain": [
       "array([1, 1, 1, 1, 1, 1, 1, 1, 1, 1, 1, 1, 1, 1, 1, 1, 1, 1, 1, 1, 1, 1,\n",
       "       1, 1, 1, 1, 1, 1, 1, 1, 1, 1, 1, 1, 1, 1, 1, 1, 1, 1, 1, 1, 1, 1,\n",
       "       1, 1, 1, 1, 1, 1, 1, 1, 1, 1, 1, 1, 1, 1, 1, 0, 0, 2, 0, 0, 0, 0,\n",
       "       0, 0, 0, 0, 0, 0, 0, 1, 0, 0, 0, 0, 0, 0, 0, 0, 0, 2, 0, 0, 0, 0,\n",
       "       0, 0, 0, 0, 0, 0, 0, 1, 0, 0, 0, 0, 0, 0, 0, 0, 0, 0, 0, 0, 0, 0,\n",
       "       0, 0, 0, 0, 0, 0, 0, 0, 2, 0, 0, 1, 0, 0, 0, 0, 0, 0, 0, 0, 2, 2,\n",
       "       2, 2, 2, 2, 2, 2, 2, 2, 2, 2, 2, 2, 2, 2, 2, 2, 2, 2, 2, 2, 2, 2,\n",
       "       2, 2, 2, 2, 2, 2, 2, 2, 2, 2, 2, 2, 2, 2, 2, 2, 2, 2, 2, 2, 2, 2,\n",
       "       2, 2])"
      ]
     },
     "execution_count": 106,
     "metadata": {},
     "output_type": "execute_result"
    }
   ],
   "source": [
    "kmcl = KMeans(n_clusters= 3, init= 'k-means++', n_init=10, random_state= 46)\n",
    "kmclpred = kmcl.fit_predict(rdcd_data)\n",
    "kmclpred"
   ]
  },
  {
   "cell_type": "markdown",
   "id": "28fe01cb-37fd-4f70-a3c2-0f5c8b8b65ab",
   "metadata": {},
   "source": [
    "#### Finding the Silhouette and Calinski Harabasz score."
   ]
  },
  {
   "cell_type": "code",
   "execution_count": 107,
   "id": "38747aa2-4760-41ef-9bda-044f8b0632fa",
   "metadata": {},
   "outputs": [
    {
     "name": "stdout",
     "output_type": "stream",
     "text": [
      "Silhouette score is 0.298674829436929 and Calinski score is 76.17957977418838\n"
     ]
    }
   ],
   "source": [
    "from sklearn.metrics import silhouette_score, calinski_harabasz_score\n",
    "silscrN3 = silhouette_score(rdcd_data,kmclpred)\n",
    "calinskiscrN3 = calinski_harabasz_score(rdcd_data,kmclpred)\n",
    "print('Silhouette score is',silscrN3,'and Calinski score is', calinskiscrN3)"
   ]
  },
  {
   "cell_type": "code",
   "execution_count": 108,
   "id": "96e31e41-2a5f-45be-96c2-9467c1ef7c35",
   "metadata": {},
   "outputs": [
    {
     "name": "stdout",
     "output_type": "stream",
     "text": [
      "Silhouette score is 0.2722814365766535 and Calinski score is 60.613006410792536\n"
     ]
    }
   ],
   "source": [
    "#testing another cluster value, n_cluster = 4\n",
    "kmcl = KMeans(n_clusters= 4, init= 'k-means++', n_init=10, random_state= 46)\n",
    "kmclpredN4 = kmcl.fit_predict(rdcd_data)\n",
    "silscrN4 = silhouette_score(rdcd_data,kmclpredN4)\n",
    "calinskiN4 = calinski_harabasz_score(rdcd_data,kmclpredN4)\n",
    "print('Silhouette score is',silscrN4,'and Calinski score is', calinskiN4)\n"
   ]
  },
  {
   "cell_type": "markdown",
   "id": "e5210964-b2e4-4ae7-bbde-6278c805ea9c",
   "metadata": {},
   "source": [
    "#### So it is evident form the scores that a cluster number of 3 is best."
   ]
  },
  {
   "cell_type": "markdown",
   "id": "1fe73cbc-e07d-4d6b-86a9-3a3f6282541a",
   "metadata": {},
   "source": [
    "# Performing AHC"
   ]
  },
  {
   "cell_type": "code",
   "execution_count": 109,
   "id": "138007c1-5765-41e9-81cc-f61093df6093",
   "metadata": {},
   "outputs": [
    {
     "data": {
      "image/png": "[encoded data removed]",
      "text/plain": [
       "<Figure size 640x480 with 1 Axes>"
      ]
     },
     "metadata": {},
     "output_type": "display_data"
    }
   ],
   "source": [
    "from scipy.cluster import hierarchy\n",
    "dnd = hierarchy.dendrogram(hierarchy.linkage(rdcd_data, method = 'ward'))\n",
    "plt.title('Dendrogram')\n",
    "plt.xlabel('Data points')\n",
    "plt.ylabel('Eucledian distance')\n",
    "plt.axhline(9.5, c = 'red')\n",
    "plt.show()"
   ]
  },
  {
   "cell_type": "code",
   "execution_count": 110,
   "id": "44627aa3-358d-4c99-b4d0-d1b260b8d6fc",
   "metadata": {},
   "outputs": [],
   "source": [
    "from sklearn.cluster import AgglomerativeClustering\n",
    "agcl = AgglomerativeClustering(n_clusters=3, metric= 'euclidean', linkage = 'ward')"
   ]
  },
  {
   "cell_type": "code",
   "execution_count": 111,
   "id": "d1589f84-1387-49c8-b61a-efdfee6988e1",
   "metadata": {},
   "outputs": [
    {
     "data": {
      "text/plain": [
       "array([1, 1, 1, 1, 1, 1, 1, 1, 1, 1, 1, 1, 1, 1, 1, 1, 1, 1, 1, 1, 1, 1,\n",
       "       1, 1, 1, 1, 1, 1, 1, 1, 1, 1, 1, 1, 1, 1, 1, 1, 1, 1, 1, 1, 1, 1,\n",
       "       1, 1, 1, 1, 1, 1, 1, 1, 1, 1, 1, 1, 1, 1, 1, 2, 0, 0, 2, 2, 2, 2,\n",
       "       1, 2, 0, 1, 0, 1, 2, 1, 2, 0, 2, 0, 1, 2, 2, 2, 2, 0, 2, 2, 2, 2,\n",
       "       2, 2, 2, 2, 2, 2, 2, 1, 0, 2, 2, 2, 2, 2, 2, 2, 2, 2, 2, 2, 2, 2,\n",
       "       2, 2, 2, 2, 2, 2, 2, 2, 2, 2, 2, 1, 2, 2, 2, 2, 2, 2, 2, 2, 0, 0,\n",
       "       0, 0, 0, 0, 0, 0, 0, 0, 0, 0, 0, 0, 0, 0, 0, 0, 0, 0, 0, 0, 0, 0,\n",
       "       0, 0, 0, 0, 0, 0, 0, 0, 0, 0, 0, 0, 0, 0, 0, 0, 0, 0, 0, 0, 0, 0,\n",
       "       0, 0], dtype=int64)"
      ]
     },
     "execution_count": 111,
     "metadata": {},
     "output_type": "execute_result"
    }
   ],
   "source": [
    "agclpred = agcl.fit_predict(rdcd_data)\n",
    "agclpred"
   ]
  },
  {
   "cell_type": "code",
   "execution_count": 112,
   "id": "3c7b0b15-599c-46fd-a498-efd10852a692",
   "metadata": {},
   "outputs": [
    {
     "data": {
      "text/plain": [
       "0.2839520778138408"
      ]
     },
     "execution_count": 112,
     "metadata": {},
     "output_type": "execute_result"
    }
   ],
   "source": [
    "agclsilh = silhouette_score(rdcd_data, agclpred)\n",
    "agclsilh"
   ]
  },
  {
   "cell_type": "code",
   "execution_count": 113,
   "id": "02e271f3-2356-4251-aadb-de3d870cba0b",
   "metadata": {},
   "outputs": [
    {
     "data": {
      "text/plain": [
       "0.2237821350841441"
      ]
     },
     "execution_count": 113,
     "metadata": {},
     "output_type": "execute_result"
    }
   ],
   "source": [
    "agcltemp = AgglomerativeClustering(n_clusters=5, metric= 'euclidean', linkage = 'ward')\n",
    "agclpredtemp = agcltemp.fit_predict(rdcd_data)\n",
    "agclsilhtemp = silhouette_score(rdcd_data, agclpredtemp)\n",
    "agclsilhtemp"
   ]
  },
  {
   "cell_type": "code",
   "execution_count": 164,
   "id": "8b0dabbf-2e5e-4f86-b635-9bc85151ae6e",
   "metadata": {},
   "outputs": [
    {
     "data": {
      "text/plain": [
       "3"
      ]
     },
     "execution_count": 164,
     "metadata": {},
     "output_type": "execute_result"
    }
   ],
   "source": [
    "len(np.unique(agclpred))"
   ]
  },
  {
   "cell_type": "markdown",
   "id": "a0a27abc-312b-4f28-898c-bf4c42da8778",
   "metadata": {},
   "source": [
    "### Number of clusters for AHC is 3"
   ]
  },
  {
   "cell_type": "markdown",
   "id": "b9ce4b67-386b-4e74-9f5d-4e8ca0ff9de9",
   "metadata": {},
   "source": [
    "# Performing DBSCAN Clustering\n"
   ]
  },
  {
   "cell_type": "markdown",
   "id": "e40a54bb-da6b-4479-b744-87c3a46a8286",
   "metadata": {},
   "source": [
    "Tried finding a best esp and min_samples, but failed miserably. "
   ]
  },
  {
   "cell_type": "code",
   "execution_count": 23,
   "id": "308d3f9b-3af4-4c8e-a432-232de11e71a9",
   "metadata": {
    "tags": []
   },
   "outputs": [],
   "source": [
    "#creating a model and mentioning the parameters\n",
    "#eps = np.arange(2,6)\n",
    "#min_samples = np.arange(2,15,2)\n",
    "#model = DBSCAN()\n",
    "#esp_val=[]\n",
    "#min_val=[]\n",
    "#silscr =[]\n",
    "#for e in eps:\n",
    "#    min_temp = np.arange(1,e)\n",
    "#    for m in min_temp:\n",
    "#        dbscan = DBSCAN(eps = e, min_samples= e)\n",
    "#        dbscan.fit(rdcd_data)\n",
    "#        labels = dbscan.labels_\n",
    "#        sil=silhouette_score(rdcd_data,labels)\n",
    "#        silscr.append(sil)\n",
    "#        min_val.append(m)\n",
    "#    esp_val.append(e)\n"
   ]
  },
  {
   "cell_type": "code",
   "execution_count": 114,
   "id": "be420071-1c47-401d-9483-6e4cb6b8651a",
   "metadata": {},
   "outputs": [],
   "source": [
    "from sklearn.cluster import DBSCAN"
   ]
  },
  {
   "cell_type": "code",
   "execution_count": 148,
   "id": "b6e6b176-e026-4072-9437-3afec63fe984",
   "metadata": {},
   "outputs": [
    {
     "data": {
      "text/plain": [
       "array([ 0,  0,  0,  0,  0,  0,  0,  0,  0,  0,  0,  0,  0, -1, -1,  0,  0,\n",
       "        0,  0,  0,  0, -1,  0,  0,  0, -1,  0,  0,  0,  0,  0,  0,  0,  0,\n",
       "        0,  0,  0,  0,  0,  0,  0, -1,  0, -1,  0,  0, -1,  0,  0,  0, -1,\n",
       "        0,  0,  0,  0,  0,  0,  0,  0, -1, -1, -1, -1, -1,  0,  0, -1,  0,\n",
       "       -1, -1, -1, -1, -1, -1, -1, -1, -1, -1, -1, -1,  0,  0,  0, -1,  0,\n",
       "        0,  0,  0,  0,  0,  0,  0,  0,  0, -1, -1, -1,  0, -1, -1,  0,  0,\n",
       "        0,  0,  0, -1,  0,  0,  0,  0, -1,  0, -1,  0,  0, -1,  0,  0, -1,\n",
       "        0,  0, -1, -1, -1, -1,  0,  0, -1,  0, -1, -1,  1,  1,  1, -1, -1,\n",
       "       -1, -1,  1,  2,  2,  1,  2,  1,  1,  1,  1,  1,  1,  1,  1,  1, -1,\n",
       "        1, -1,  1,  1, -1, -1, -1,  1,  2,  2,  1,  1,  1,  1,  1,  1, -1,\n",
       "        1,  1,  1,  1,  1,  1, -1, -1], dtype=int64)"
      ]
     },
     "execution_count": 148,
     "metadata": {},
     "output_type": "execute_result"
    }
   ],
   "source": [
    "dbscan = DBSCAN(eps =2, min_samples= 5)\n",
    "dbscan.fit(rdcd_data)\n",
    "labels = dbscan.labels_\n",
    "labels"
   ]
  },
  {
   "cell_type": "code",
   "execution_count": 163,
   "id": "23a164f6-c787-4c53-b1d1-0bab1a1cb408",
   "metadata": {},
   "outputs": [],
   "source": [
    "#creating a sperate array with same dimension as the labels array\n",
    "temp_column = np.zeros_like(labels, dtype=bool)"
   ]
  },
  {
   "cell_type": "code",
   "execution_count": 162,
   "id": "d768ba77-2404-4b86-9654-183e3a6fd876",
   "metadata": {},
   "outputs": [],
   "source": [
    "# Assigning True for values other than -1\n",
    "temp_column[dbscan.core_sample_indices_] = True"
   ]
  },
  {
   "cell_type": "code",
   "execution_count": 151,
   "id": "5cb6d60d-5530-432c-96e4-6c0d7384d643",
   "metadata": {},
   "outputs": [
    {
     "name": "stdout",
     "output_type": "stream",
     "text": [
      "3\n"
     ]
    }
   ],
   "source": [
    "clusters = len(set(labels)) - (1 if -1 in labels else 0)\n",
    "print(clusters)"
   ]
  },
  {
   "cell_type": "code",
   "execution_count": 152,
   "id": "bc780581-df1b-42ca-bbf0-133486789321",
   "metadata": {},
   "outputs": [
    {
     "name": "stdout",
     "output_type": "stream",
     "text": [
      "0.052875912054019036\n"
     ]
    }
   ],
   "source": [
    "print(silhouette_score(rdcd_data, labels))"
   ]
  },
  {
   "cell_type": "markdown",
   "id": "f215d479-6af0-4a42-848a-1b4779f4f3d0",
   "metadata": {},
   "source": [
    "### Number of clusters formed by DBSCAN is 3"
   ]
  },
  {
   "cell_type": "code",
   "execution_count": null,
   "id": "db2c9b2e-274d-4cb9-8921-ff63ea28ef56",
   "metadata": {},
   "outputs": [],
   "source": []
  }
 ],
 "metadata": {
  "kernelspec": {
   "display_name": "Python 3 (ipykernel)",
   "language": "python",
   "name": "python3"
  },
  "language_info": {
   "codemirror_mode": {
    "name": "ipython",
    "version": 3
   },
   "file_extension": ".py",
   "mimetype": "text/x-python",
   "name": "python",
   "nbconvert_exporter": "python",
   "pygments_lexer": "ipython3",
   "version": "3.10.9"
  }
 },
 "nbformat": 4,
 "nbformat_minor": 5
}
